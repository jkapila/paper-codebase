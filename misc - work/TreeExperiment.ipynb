{
 "cells": [
  {
   "cell_type": "markdown",
   "metadata": {},
   "source": [
    "# A generic tree builder"
   ]
  },
  {
   "cell_type": "code",
   "execution_count": 52,
   "metadata": {},
   "outputs": [],
   "source": [
    "import numpy as np\n",
    "import matplotlib.pyplot as plt\n",
    "import seaborn as sns\n",
    "import pandas as pd\n",
    "from sklearn.datasets import load_iris\n",
    "\n",
    "import warnings"
   ]
  },
  {
   "cell_type": "code",
   "execution_count": null,
   "metadata": {},
   "outputs": [],
   "source": []
  },
  {
   "cell_type": "code",
   "execution_count": 3,
   "metadata": {},
   "outputs": [],
   "source": [
    "%matplotlib inline\n"
   ]
  },
  {
   "cell_type": "code",
   "execution_count": 103,
   "metadata": {},
   "outputs": [],
   "source": [
    "func_dict = {'sum':np.sum,\n",
    "             'mean':np.mean,\n",
    "             'median':np.median,\n",
    "             'min':np.min,\n",
    "             'max':np.max\n",
    "            }\n",
    "\n",
    "spacer_dict = {'spacer1': {'init':'|~~','next':'|  '},\n",
    "               'spacer2': {'init':'-','next':'-'},\n",
    "               'spacer3': {'init':'--','next':' -'},\n",
    "               'spacer4': {'init':'|--','next':'|  '},\n",
    "               'spacer5': {'init':'|--','next':'+  '}\n",
    "              }\n",
    "\n",
    "class TreeNode(object):\n",
    "\n",
    "    def __init__(self, parent, depth):\n",
    "\n",
    "        self.parent = parent\n",
    "        self.depth = depth\n",
    "        self.children = []\n",
    "        self.value = []\n",
    "        self.is_end = False\n",
    "    \n",
    "    def expand(self, x, evaluation_func):\n",
    "        try:\n",
    "            splits = evaluation_func(x)\n",
    "        except Exception as e:\n",
    "            print('Evaluation function is ill defined! Setting splits as None!')\n",
    "            print('Caugth Exception:',e)\n",
    "            splits = None\n",
    "            \n",
    "        if splits is None:\n",
    "            self.is_end = True\n",
    "            \n",
    "        else:\n",
    "            for split in splits:\n",
    "                node = TreeNode(self,depth=self.depth+1)\n",
    "                node.value = split\n",
    "                self.children.append(node)            \n",
    "    \n",
    "    def expand_recursive(self, x, evaluation_func):\n",
    "        self.expand(x, evaluation_func)\n",
    "        if not self.is_leaf:\n",
    "            for child in self.children:\n",
    "                child.expand(x, evaluation_func)\n",
    "    \n",
    "    def collect(self, collector_func):\n",
    "        values = 0\n",
    "        for val in self.value:\n",
    "            try:\n",
    "                values += collector_func(val)\n",
    "            except Exception as e:\n",
    "                print('Collector function is ill defined! Setting value as 0!')\n",
    "                values += 0\n",
    "        return values\n",
    "    \n",
    "    def collect_recursive(self, collector_func):\n",
    "        values = 0\n",
    "        if not self.is_end:\n",
    "            values = self.collect_recursive(collector_func)\n",
    "        values += self.collect(collector_func)\n",
    "        return values        \n",
    "    \n",
    "    def update(self, value, value_update_func):\n",
    "        try:\n",
    "            updates = value_update_func(value)\n",
    "        except Exception as e:\n",
    "            print('Value Update function is ill defined! Setting updates as None!')\n",
    "            updates = None\n",
    "        \n",
    "        if updates is not None:\n",
    "            self.value = updates\n",
    "\n",
    "    def update_recursive(self, value, value_update_func):\n",
    "        if self.parent:\n",
    "            self.parent.update_recursive(value, value_update_func)\n",
    "        self.update(value, value_update_fun)\n",
    "    \n",
    "    def predict_node(self, x, prediction_func):\n",
    "        if self.is_leaf:\n",
    "            return prediction_func(x)\n",
    "        predictions = []\n",
    "        for child in self.children:\n",
    "            predictions.append(child.predict_node(x, prediction_func))\n",
    "        \n",
    "        \n",
    "    def __repr__(self, spacer_type='spacer1'):\n",
    "        if self.depth == 0:\n",
    "            spacer = spacer_dict[spacer_type]['init']\n",
    "        else:\n",
    "            spacer = spacer_dict[spacer_type]['next'] * (self.depth) + spacer_dict[spacer_type]['init']\n",
    "\n",
    "        s = spacer + 'Node at depth {} has {} children and Value: \\n{}{}\\n'.format((self.depth + 1), self.children, spacer,\n",
    "                                                                                   self.value)\n",
    "        if not self.is_leaf:\n",
    "            for i in self.children:\n",
    "                s += i.__repr__()\n",
    "        else:\n",
    "            s = spacer_dict[spacer_type]['next'] + '*'*(self.depth+1) + spacer_dict[spacer_type]['next']\n",
    "            return s\n",
    "        return s\n",
    "\n",
    "    def is_leaf(self):\n",
    "        return self.is_end\n",
    "\n",
    "    def is_root(self):\n",
    "        return self.parent is None\n",
    "    \n",
    "                \n",
    "class Tree(object):\n",
    "    \n",
    "    def __init__(self, split_func=None, agg_func=None, na_func=None):\n",
    "    \n",
    "        if split_func is None:\n",
    "            def random_50_split(x):\n",
    "                if x.shape[0] < 5:\n",
    "                    return None\n",
    "                spl = np.random.choice(x.shape[0], int(np.ceil(x.shape[0]*0.5)))\n",
    "                return x[spl,:],x[~spl,:]\n",
    "            self.split_func = random_50_split\n",
    "        else:\n",
    "            self.split_func = func\n",
    "\n",
    "        if agg_func is None:\n",
    "            self.agg_func = lambda x: np.sum(x)\n",
    "        else:\n",
    "            self.agg_func = func\n",
    "        \n",
    "        self.tree = None\n",
    "    \n",
    "    def fit_data(self, data,  value_update_func = None):        \n",
    "        if self.tree is None:\n",
    "            tree = TreeNode(None,0)\n",
    "        elif self.tree is not None:\n",
    "            warnings.warn('Some data already fitted in the tree! Refitting new data!')\n",
    "            tree = TreeNode(None,0)\n",
    "        tree.expand_recursive(x = data, evaluation_func=self.split_func)\n",
    "        self.tree = tree\n",
    "        \n",
    "    def predict(self, data):\n",
    "        pass\n",
    "    \n",
    "    def print_stats(self):\n",
    "        pass\n",
    "    \n",
    "#     def __repr__(self):\n",
    "#         return self.tree\n",
    "    \n",
    "        "
   ]
  },
  {
   "cell_type": "code",
   "execution_count": null,
   "metadata": {},
   "outputs": [],
   "source": []
  },
  {
   "cell_type": "code",
   "execution_count": 104,
   "metadata": {},
   "outputs": [
    {
     "name": "stdout",
     "output_type": "stream",
     "text": [
      "   sepal length (cm)  sepal width (cm)  petal length (cm)  petal width (cm)  \\\n",
      "0                5.1               3.5                1.4               0.2   \n",
      "1                4.9               3.0                1.4               0.2   \n",
      "2                4.7               3.2                1.3               0.2   \n",
      "3                4.6               3.1                1.5               0.2   \n",
      "4                5.0               3.6                1.4               0.2   \n",
      "\n",
      "   target  \n",
      "0       0  \n",
      "1       0  \n",
      "2       0  \n",
      "3       0  \n",
      "4       0  \n"
     ]
    },
    {
     "data": {
      "text/html": [
       "<div>\n",
       "<style scoped>\n",
       "    .dataframe tbody tr th:only-of-type {\n",
       "        vertical-align: middle;\n",
       "    }\n",
       "\n",
       "    .dataframe tbody tr th {\n",
       "        vertical-align: top;\n",
       "    }\n",
       "\n",
       "    .dataframe thead th {\n",
       "        text-align: right;\n",
       "    }\n",
       "</style>\n",
       "<table border=\"1\" class=\"dataframe\">\n",
       "  <thead>\n",
       "    <tr style=\"text-align: right;\">\n",
       "      <th></th>\n",
       "      <th>sepal length (cm)</th>\n",
       "      <th>sepal width (cm)</th>\n",
       "      <th>petal length (cm)</th>\n",
       "      <th>petal width (cm)</th>\n",
       "      <th>target</th>\n",
       "    </tr>\n",
       "  </thead>\n",
       "  <tbody>\n",
       "    <tr>\n",
       "      <th>count</th>\n",
       "      <td>150.000000</td>\n",
       "      <td>150.000000</td>\n",
       "      <td>150.000000</td>\n",
       "      <td>150.000000</td>\n",
       "      <td>150.000000</td>\n",
       "    </tr>\n",
       "    <tr>\n",
       "      <th>mean</th>\n",
       "      <td>5.843333</td>\n",
       "      <td>3.054000</td>\n",
       "      <td>3.758667</td>\n",
       "      <td>1.198667</td>\n",
       "      <td>1.000000</td>\n",
       "    </tr>\n",
       "    <tr>\n",
       "      <th>std</th>\n",
       "      <td>0.828066</td>\n",
       "      <td>0.433594</td>\n",
       "      <td>1.764420</td>\n",
       "      <td>0.763161</td>\n",
       "      <td>0.819232</td>\n",
       "    </tr>\n",
       "    <tr>\n",
       "      <th>min</th>\n",
       "      <td>4.300000</td>\n",
       "      <td>2.000000</td>\n",
       "      <td>1.000000</td>\n",
       "      <td>0.100000</td>\n",
       "      <td>0.000000</td>\n",
       "    </tr>\n",
       "    <tr>\n",
       "      <th>25%</th>\n",
       "      <td>5.100000</td>\n",
       "      <td>2.800000</td>\n",
       "      <td>1.600000</td>\n",
       "      <td>0.300000</td>\n",
       "      <td>0.000000</td>\n",
       "    </tr>\n",
       "    <tr>\n",
       "      <th>50%</th>\n",
       "      <td>5.800000</td>\n",
       "      <td>3.000000</td>\n",
       "      <td>4.350000</td>\n",
       "      <td>1.300000</td>\n",
       "      <td>1.000000</td>\n",
       "    </tr>\n",
       "    <tr>\n",
       "      <th>75%</th>\n",
       "      <td>6.400000</td>\n",
       "      <td>3.300000</td>\n",
       "      <td>5.100000</td>\n",
       "      <td>1.800000</td>\n",
       "      <td>2.000000</td>\n",
       "    </tr>\n",
       "    <tr>\n",
       "      <th>max</th>\n",
       "      <td>7.900000</td>\n",
       "      <td>4.400000</td>\n",
       "      <td>6.900000</td>\n",
       "      <td>2.500000</td>\n",
       "      <td>2.000000</td>\n",
       "    </tr>\n",
       "  </tbody>\n",
       "</table>\n",
       "</div>"
      ],
      "text/plain": [
       "       sepal length (cm)  sepal width (cm)  petal length (cm)  \\\n",
       "count         150.000000        150.000000         150.000000   \n",
       "mean            5.843333          3.054000           3.758667   \n",
       "std             0.828066          0.433594           1.764420   \n",
       "min             4.300000          2.000000           1.000000   \n",
       "25%             5.100000          2.800000           1.600000   \n",
       "50%             5.800000          3.000000           4.350000   \n",
       "75%             6.400000          3.300000           5.100000   \n",
       "max             7.900000          4.400000           6.900000   \n",
       "\n",
       "       petal width (cm)      target  \n",
       "count        150.000000  150.000000  \n",
       "mean           1.198667    1.000000  \n",
       "std            0.763161    0.819232  \n",
       "min            0.100000    0.000000  \n",
       "25%            0.300000    0.000000  \n",
       "50%            1.300000    1.000000  \n",
       "75%            1.800000    2.000000  \n",
       "max            2.500000    2.000000  "
      ]
     },
     "execution_count": 104,
     "metadata": {},
     "output_type": "execute_result"
    }
   ],
   "source": [
    "data = load_iris()\n",
    "df  = pd.concat([pd.DataFrame(data.data),pd.DataFrame(data.target)],axis = 1)\n",
    "data.feature_names.append('target')\n",
    "df.columns = data.feature_names\n",
    "print(df.head())\n",
    "df.describe()\n"
   ]
  },
  {
   "cell_type": "code",
   "execution_count": null,
   "metadata": {},
   "outputs": [],
   "source": []
  },
  {
   "cell_type": "code",
   "execution_count": 105,
   "metadata": {},
   "outputs": [],
   "source": [
    "test_tree = Tree()"
   ]
  },
  {
   "cell_type": "code",
   "execution_count": 106,
   "metadata": {},
   "outputs": [],
   "source": [
    "test_tree.fit_data(df.iloc[:,0:3].values)"
   ]
  },
  {
   "cell_type": "code",
   "execution_count": 113,
   "metadata": {},
   "outputs": [
    {
     "data": {
      "text/plain": [
       "|  *|  "
      ]
     },
     "execution_count": 113,
     "metadata": {},
     "output_type": "execute_result"
    }
   ],
   "source": [
    "test_tree.tree"
   ]
  },
  {
   "cell_type": "code",
   "execution_count": 108,
   "metadata": {},
   "outputs": [
    {
     "data": {
      "text/plain": [
       "<__main__.Tree at 0x10455c4e0>"
      ]
     },
     "execution_count": 108,
     "metadata": {},
     "output_type": "execute_result"
    }
   ],
   "source": [
    "test_tree"
   ]
  },
  {
   "cell_type": "code",
   "execution_count": 62,
   "metadata": {},
   "outputs": [
    {
     "name": "stderr",
     "output_type": "stream",
     "text": [
      "/Users/jitins_lab/anaconda2/envs/hyper/lib/python3.6/site-packages/ipykernel/__main__.py:134: UserWarning: Some data already fitted in the tree! Refitting new data!\n"
     ]
    }
   ],
   "source": [
    "test_tree.fit_data(df.iloc[:,0:3].values)"
   ]
  },
  {
   "cell_type": "code",
   "execution_count": null,
   "metadata": {},
   "outputs": [],
   "source": []
  }
 ],
 "metadata": {
  "kernelspec": {
   "display_name": "Python [conda env:hyper]",
   "language": "python",
   "name": "conda-env-hyper-py"
  },
  "language_info": {
   "codemirror_mode": {
    "name": "ipython",
    "version": 3
   },
   "file_extension": ".py",
   "mimetype": "text/x-python",
   "name": "python",
   "nbconvert_exporter": "python",
   "pygments_lexer": "ipython3",
   "version": "3.6.4"
  }
 },
 "nbformat": 4,
 "nbformat_minor": 2
}
