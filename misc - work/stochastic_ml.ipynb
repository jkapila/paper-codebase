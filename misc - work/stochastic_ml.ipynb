{
 "cells": [
  {
   "cell_type": "markdown",
   "metadata": {},
   "source": [
    "# Running Prediciton and Optimization for solving Stochastic problems"
   ]
  },
  {
   "cell_type": "code",
   "execution_count": 1,
   "metadata": {},
   "outputs": [],
   "source": [
    "# Basic Imports\n",
    "import numpy as np\n",
    "import pandas as pd\n",
    "\n",
    "# oter libs\n",
    "import random\n",
    "import io\n",
    "import requests\n",
    "\n",
    "# import plotting imports\n",
    "import matplotlib.pyplot as plt\n",
    "import seaborn as sns\n"
   ]
  },
  {
   "cell_type": "code",
   "execution_count": 2,
   "metadata": {},
   "outputs": [],
   "source": [
    "# setting seed values\n",
    "np.random.seed(1234)\n",
    "\n",
    "# pandas confing\n",
    "\n",
    "# plotting config\n",
    "%matplotlib inline\n"
   ]
  },
  {
   "cell_type": "code",
   "execution_count": 3,
   "metadata": {},
   "outputs": [
    {
     "name": "stderr",
     "output_type": "stream",
     "text": [
      "C:\\Users\\jkapila\\AppData\\Local\\Continuum\\anaconda3\\lib\\site-packages\\statsmodels\\compat\\pandas.py:23: FutureWarning: The Panel class is removed from pandas. Accessing it from the top-level namespace will also be removed in the next version\n",
      "  data_klasses = (pandas.Series, pandas.DataFrame, pandas.Panel)\n"
     ]
    }
   ],
   "source": [
    "# Ml imports\n",
    "from statsmodels.compat import lzip\n",
    "import statsmodels.api as sm\n",
    "from statsmodels.formula.api import ols"
   ]
  },
  {
   "cell_type": "markdown",
   "metadata": {},
   "source": [
    "### Getting a sample data"
   ]
  },
  {
   "cell_type": "code",
   "execution_count": 6,
   "metadata": {},
   "outputs": [],
   "source": [
    "# this is quaterly beef data\n",
    "# url=\"https://raw.githubusercontent.com/susanli2016/Machine-Learning-with-Python/master/beef.csv\"\n",
    "url = \"https://covidtracking.com/api/v1/states/daily.csv\"\n",
    "s=requests.get(url).content\n",
    "df=pd.read_csv(io.StringIO(s.decode('utf-8')))"
   ]
  },
  {
   "cell_type": "code",
   "execution_count": 7,
   "metadata": {},
   "outputs": [
    {
     "data": {
      "text/html": [
       "<div>\n",
       "<style scoped>\n",
       "    .dataframe tbody tr th:only-of-type {\n",
       "        vertical-align: middle;\n",
       "    }\n",
       "\n",
       "    .dataframe tbody tr th {\n",
       "        vertical-align: top;\n",
       "    }\n",
       "\n",
       "    .dataframe thead th {\n",
       "        text-align: right;\n",
       "    }\n",
       "</style>\n",
       "<table border=\"1\" class=\"dataframe\">\n",
       "  <thead>\n",
       "    <tr style=\"text-align: right;\">\n",
       "      <th></th>\n",
       "      <th>date</th>\n",
       "      <th>state</th>\n",
       "      <th>positive</th>\n",
       "      <th>negative</th>\n",
       "      <th>pending</th>\n",
       "      <th>hospitalizedCurrently</th>\n",
       "      <th>hospitalizedCumulative</th>\n",
       "      <th>inIcuCurrently</th>\n",
       "      <th>inIcuCumulative</th>\n",
       "      <th>onVentilatorCurrently</th>\n",
       "      <th>...</th>\n",
       "      <th>hospitalized</th>\n",
       "      <th>total</th>\n",
       "      <th>totalTestResults</th>\n",
       "      <th>posNeg</th>\n",
       "      <th>fips</th>\n",
       "      <th>deathIncrease</th>\n",
       "      <th>hospitalizedIncrease</th>\n",
       "      <th>negativeIncrease</th>\n",
       "      <th>positiveIncrease</th>\n",
       "      <th>totalTestResultsIncrease</th>\n",
       "    </tr>\n",
       "  </thead>\n",
       "  <tbody>\n",
       "    <tr>\n",
       "      <th>0</th>\n",
       "      <td>20200412</td>\n",
       "      <td>AK</td>\n",
       "      <td>272.0</td>\n",
       "      <td>7766.0</td>\n",
       "      <td>NaN</td>\n",
       "      <td>NaN</td>\n",
       "      <td>31.0</td>\n",
       "      <td>NaN</td>\n",
       "      <td>NaN</td>\n",
       "      <td>NaN</td>\n",
       "      <td>...</td>\n",
       "      <td>31.0</td>\n",
       "      <td>8038.0</td>\n",
       "      <td>8038.0</td>\n",
       "      <td>8038.0</td>\n",
       "      <td>2</td>\n",
       "      <td>0.0</td>\n",
       "      <td>0.0</td>\n",
       "      <td>291.0</td>\n",
       "      <td>15.0</td>\n",
       "      <td>306.0</td>\n",
       "    </tr>\n",
       "    <tr>\n",
       "      <th>1</th>\n",
       "      <td>20200412</td>\n",
       "      <td>AL</td>\n",
       "      <td>3525.0</td>\n",
       "      <td>18058.0</td>\n",
       "      <td>NaN</td>\n",
       "      <td>NaN</td>\n",
       "      <td>437.0</td>\n",
       "      <td>NaN</td>\n",
       "      <td>189.0</td>\n",
       "      <td>NaN</td>\n",
       "      <td>...</td>\n",
       "      <td>437.0</td>\n",
       "      <td>21583.0</td>\n",
       "      <td>21583.0</td>\n",
       "      <td>21583.0</td>\n",
       "      <td>1</td>\n",
       "      <td>2.0</td>\n",
       "      <td>35.0</td>\n",
       "      <td>0.0</td>\n",
       "      <td>334.0</td>\n",
       "      <td>334.0</td>\n",
       "    </tr>\n",
       "    <tr>\n",
       "      <th>2</th>\n",
       "      <td>20200412</td>\n",
       "      <td>AR</td>\n",
       "      <td>1280.0</td>\n",
       "      <td>18442.0</td>\n",
       "      <td>NaN</td>\n",
       "      <td>74.0</td>\n",
       "      <td>130.0</td>\n",
       "      <td>NaN</td>\n",
       "      <td>43.0</td>\n",
       "      <td>30.0</td>\n",
       "      <td>...</td>\n",
       "      <td>130.0</td>\n",
       "      <td>19722.0</td>\n",
       "      <td>19722.0</td>\n",
       "      <td>19722.0</td>\n",
       "      <td>5</td>\n",
       "      <td>3.0</td>\n",
       "      <td>0.0</td>\n",
       "      <td>1090.0</td>\n",
       "      <td>54.0</td>\n",
       "      <td>1144.0</td>\n",
       "    </tr>\n",
       "    <tr>\n",
       "      <th>3</th>\n",
       "      <td>20200412</td>\n",
       "      <td>AS</td>\n",
       "      <td>0.0</td>\n",
       "      <td>3.0</td>\n",
       "      <td>2.0</td>\n",
       "      <td>NaN</td>\n",
       "      <td>NaN</td>\n",
       "      <td>NaN</td>\n",
       "      <td>NaN</td>\n",
       "      <td>NaN</td>\n",
       "      <td>...</td>\n",
       "      <td>NaN</td>\n",
       "      <td>5.0</td>\n",
       "      <td>3.0</td>\n",
       "      <td>3.0</td>\n",
       "      <td>60</td>\n",
       "      <td>0.0</td>\n",
       "      <td>0.0</td>\n",
       "      <td>0.0</td>\n",
       "      <td>0.0</td>\n",
       "      <td>0.0</td>\n",
       "    </tr>\n",
       "    <tr>\n",
       "      <th>4</th>\n",
       "      <td>20200412</td>\n",
       "      <td>AZ</td>\n",
       "      <td>3539.0</td>\n",
       "      <td>38570.0</td>\n",
       "      <td>NaN</td>\n",
       "      <td>NaN</td>\n",
       "      <td>NaN</td>\n",
       "      <td>NaN</td>\n",
       "      <td>NaN</td>\n",
       "      <td>NaN</td>\n",
       "      <td>...</td>\n",
       "      <td>NaN</td>\n",
       "      <td>42109.0</td>\n",
       "      <td>42109.0</td>\n",
       "      <td>42109.0</td>\n",
       "      <td>4</td>\n",
       "      <td>7.0</td>\n",
       "      <td>0.0</td>\n",
       "      <td>1433.0</td>\n",
       "      <td>146.0</td>\n",
       "      <td>1579.0</td>\n",
       "    </tr>\n",
       "    <tr>\n",
       "      <th>5</th>\n",
       "      <td>20200412</td>\n",
       "      <td>CA</td>\n",
       "      <td>21794.0</td>\n",
       "      <td>168534.0</td>\n",
       "      <td>13200.0</td>\n",
       "      <td>5234.0</td>\n",
       "      <td>NaN</td>\n",
       "      <td>1539.0</td>\n",
       "      <td>NaN</td>\n",
       "      <td>NaN</td>\n",
       "      <td>...</td>\n",
       "      <td>NaN</td>\n",
       "      <td>203528.0</td>\n",
       "      <td>190328.0</td>\n",
       "      <td>190328.0</td>\n",
       "      <td>6</td>\n",
       "      <td>110.0</td>\n",
       "      <td>0.0</td>\n",
       "      <td>15930.0</td>\n",
       "      <td>2322.0</td>\n",
       "      <td>18252.0</td>\n",
       "    </tr>\n",
       "    <tr>\n",
       "      <th>6</th>\n",
       "      <td>20200412</td>\n",
       "      <td>CO</td>\n",
       "      <td>6893.0</td>\n",
       "      <td>27980.0</td>\n",
       "      <td>NaN</td>\n",
       "      <td>NaN</td>\n",
       "      <td>1376.0</td>\n",
       "      <td>NaN</td>\n",
       "      <td>NaN</td>\n",
       "      <td>NaN</td>\n",
       "      <td>...</td>\n",
       "      <td>1376.0</td>\n",
       "      <td>34873.0</td>\n",
       "      <td>34873.0</td>\n",
       "      <td>34873.0</td>\n",
       "      <td>8</td>\n",
       "      <td>24.0</td>\n",
       "      <td>64.0</td>\n",
       "      <td>1837.0</td>\n",
       "      <td>383.0</td>\n",
       "      <td>2220.0</td>\n",
       "    </tr>\n",
       "    <tr>\n",
       "      <th>7</th>\n",
       "      <td>20200412</td>\n",
       "      <td>CT</td>\n",
       "      <td>12035.0</td>\n",
       "      <td>29185.0</td>\n",
       "      <td>NaN</td>\n",
       "      <td>1654.0</td>\n",
       "      <td>NaN</td>\n",
       "      <td>NaN</td>\n",
       "      <td>NaN</td>\n",
       "      <td>NaN</td>\n",
       "      <td>...</td>\n",
       "      <td>NaN</td>\n",
       "      <td>41220.0</td>\n",
       "      <td>41220.0</td>\n",
       "      <td>41220.0</td>\n",
       "      <td>9</td>\n",
       "      <td>60.0</td>\n",
       "      <td>0.0</td>\n",
       "      <td>864.0</td>\n",
       "      <td>525.0</td>\n",
       "      <td>1389.0</td>\n",
       "    </tr>\n",
       "    <tr>\n",
       "      <th>8</th>\n",
       "      <td>20200412</td>\n",
       "      <td>DC</td>\n",
       "      <td>1875.0</td>\n",
       "      <td>8765.0</td>\n",
       "      <td>NaN</td>\n",
       "      <td>NaN</td>\n",
       "      <td>NaN</td>\n",
       "      <td>NaN</td>\n",
       "      <td>NaN</td>\n",
       "      <td>NaN</td>\n",
       "      <td>...</td>\n",
       "      <td>NaN</td>\n",
       "      <td>10640.0</td>\n",
       "      <td>10640.0</td>\n",
       "      <td>10640.0</td>\n",
       "      <td>11</td>\n",
       "      <td>3.0</td>\n",
       "      <td>0.0</td>\n",
       "      <td>504.0</td>\n",
       "      <td>97.0</td>\n",
       "      <td>601.0</td>\n",
       "    </tr>\n",
       "    <tr>\n",
       "      <th>9</th>\n",
       "      <td>20200412</td>\n",
       "      <td>DE</td>\n",
       "      <td>1479.0</td>\n",
       "      <td>9624.0</td>\n",
       "      <td>NaN</td>\n",
       "      <td>190.0</td>\n",
       "      <td>NaN</td>\n",
       "      <td>NaN</td>\n",
       "      <td>NaN</td>\n",
       "      <td>NaN</td>\n",
       "      <td>...</td>\n",
       "      <td>NaN</td>\n",
       "      <td>11103.0</td>\n",
       "      <td>11103.0</td>\n",
       "      <td>11103.0</td>\n",
       "      <td>10</td>\n",
       "      <td>0.0</td>\n",
       "      <td>0.0</td>\n",
       "      <td>0.0</td>\n",
       "      <td>0.0</td>\n",
       "      <td>0.0</td>\n",
       "    </tr>\n",
       "    <tr>\n",
       "      <th>10</th>\n",
       "      <td>20200412</td>\n",
       "      <td>FL</td>\n",
       "      <td>19355.0</td>\n",
       "      <td>163398.0</td>\n",
       "      <td>1297.0</td>\n",
       "      <td>NaN</td>\n",
       "      <td>2772.0</td>\n",
       "      <td>NaN</td>\n",
       "      <td>NaN</td>\n",
       "      <td>NaN</td>\n",
       "      <td>...</td>\n",
       "      <td>2772.0</td>\n",
       "      <td>184050.0</td>\n",
       "      <td>182753.0</td>\n",
       "      <td>182753.0</td>\n",
       "      <td>12</td>\n",
       "      <td>27.0</td>\n",
       "      <td>111.0</td>\n",
       "      <td>8959.0</td>\n",
       "      <td>861.0</td>\n",
       "      <td>9820.0</td>\n",
       "    </tr>\n",
       "    <tr>\n",
       "      <th>11</th>\n",
       "      <td>20200412</td>\n",
       "      <td>GA</td>\n",
       "      <td>12452.0</td>\n",
       "      <td>42001.0</td>\n",
       "      <td>NaN</td>\n",
       "      <td>NaN</td>\n",
       "      <td>2505.0</td>\n",
       "      <td>NaN</td>\n",
       "      <td>NaN</td>\n",
       "      <td>NaN</td>\n",
       "      <td>...</td>\n",
       "      <td>2505.0</td>\n",
       "      <td>54453.0</td>\n",
       "      <td>54453.0</td>\n",
       "      <td>54453.0</td>\n",
       "      <td>13</td>\n",
       "      <td>5.0</td>\n",
       "      <td>26.0</td>\n",
       "      <td>2445.0</td>\n",
       "      <td>293.0</td>\n",
       "      <td>2738.0</td>\n",
       "    </tr>\n",
       "    <tr>\n",
       "      <th>12</th>\n",
       "      <td>20200412</td>\n",
       "      <td>GU</td>\n",
       "      <td>133.0</td>\n",
       "      <td>693.0</td>\n",
       "      <td>NaN</td>\n",
       "      <td>13.0</td>\n",
       "      <td>NaN</td>\n",
       "      <td>2.0</td>\n",
       "      <td>NaN</td>\n",
       "      <td>2.0</td>\n",
       "      <td>...</td>\n",
       "      <td>NaN</td>\n",
       "      <td>826.0</td>\n",
       "      <td>826.0</td>\n",
       "      <td>826.0</td>\n",
       "      <td>66</td>\n",
       "      <td>0.0</td>\n",
       "      <td>0.0</td>\n",
       "      <td>0.0</td>\n",
       "      <td>0.0</td>\n",
       "      <td>0.0</td>\n",
       "    </tr>\n",
       "    <tr>\n",
       "      <th>13</th>\n",
       "      <td>20200412</td>\n",
       "      <td>HI</td>\n",
       "      <td>486.0</td>\n",
       "      <td>17482.0</td>\n",
       "      <td>NaN</td>\n",
       "      <td>NaN</td>\n",
       "      <td>44.0</td>\n",
       "      <td>NaN</td>\n",
       "      <td>6.0</td>\n",
       "      <td>NaN</td>\n",
       "      <td>...</td>\n",
       "      <td>44.0</td>\n",
       "      <td>17968.0</td>\n",
       "      <td>17968.0</td>\n",
       "      <td>17968.0</td>\n",
       "      <td>15</td>\n",
       "      <td>0.0</td>\n",
       "      <td>1.0</td>\n",
       "      <td>416.0</td>\n",
       "      <td>21.0</td>\n",
       "      <td>437.0</td>\n",
       "    </tr>\n",
       "    <tr>\n",
       "      <th>14</th>\n",
       "      <td>20200412</td>\n",
       "      <td>IA</td>\n",
       "      <td>1587.0</td>\n",
       "      <td>16005.0</td>\n",
       "      <td>NaN</td>\n",
       "      <td>129.0</td>\n",
       "      <td>NaN</td>\n",
       "      <td>55.0</td>\n",
       "      <td>NaN</td>\n",
       "      <td>30.0</td>\n",
       "      <td>...</td>\n",
       "      <td>NaN</td>\n",
       "      <td>17592.0</td>\n",
       "      <td>17592.0</td>\n",
       "      <td>17592.0</td>\n",
       "      <td>19</td>\n",
       "      <td>7.0</td>\n",
       "      <td>0.0</td>\n",
       "      <td>383.0</td>\n",
       "      <td>77.0</td>\n",
       "      <td>460.0</td>\n",
       "    </tr>\n",
       "    <tr>\n",
       "      <th>15</th>\n",
       "      <td>20200412</td>\n",
       "      <td>ID</td>\n",
       "      <td>1407.0</td>\n",
       "      <td>12901.0</td>\n",
       "      <td>NaN</td>\n",
       "      <td>NaN</td>\n",
       "      <td>131.0</td>\n",
       "      <td>NaN</td>\n",
       "      <td>38.0</td>\n",
       "      <td>NaN</td>\n",
       "      <td>...</td>\n",
       "      <td>131.0</td>\n",
       "      <td>14308.0</td>\n",
       "      <td>14308.0</td>\n",
       "      <td>14308.0</td>\n",
       "      <td>16</td>\n",
       "      <td>2.0</td>\n",
       "      <td>3.0</td>\n",
       "      <td>533.0</td>\n",
       "      <td>11.0</td>\n",
       "      <td>544.0</td>\n",
       "    </tr>\n",
       "    <tr>\n",
       "      <th>16</th>\n",
       "      <td>20200412</td>\n",
       "      <td>IL</td>\n",
       "      <td>20852.0</td>\n",
       "      <td>79883.0</td>\n",
       "      <td>NaN</td>\n",
       "      <td>3680.0</td>\n",
       "      <td>NaN</td>\n",
       "      <td>1166.0</td>\n",
       "      <td>NaN</td>\n",
       "      <td>821.0</td>\n",
       "      <td>...</td>\n",
       "      <td>NaN</td>\n",
       "      <td>100735.0</td>\n",
       "      <td>100735.0</td>\n",
       "      <td>100735.0</td>\n",
       "      <td>17</td>\n",
       "      <td>43.0</td>\n",
       "      <td>0.0</td>\n",
       "      <td>6914.0</td>\n",
       "      <td>1672.0</td>\n",
       "      <td>8586.0</td>\n",
       "    </tr>\n",
       "    <tr>\n",
       "      <th>17</th>\n",
       "      <td>20200412</td>\n",
       "      <td>IN</td>\n",
       "      <td>7928.0</td>\n",
       "      <td>34561.0</td>\n",
       "      <td>NaN</td>\n",
       "      <td>NaN</td>\n",
       "      <td>NaN</td>\n",
       "      <td>820.0</td>\n",
       "      <td>NaN</td>\n",
       "      <td>497.0</td>\n",
       "      <td>...</td>\n",
       "      <td>NaN</td>\n",
       "      <td>42489.0</td>\n",
       "      <td>42489.0</td>\n",
       "      <td>42489.0</td>\n",
       "      <td>18</td>\n",
       "      <td>13.0</td>\n",
       "      <td>0.0</td>\n",
       "      <td>2781.0</td>\n",
       "      <td>493.0</td>\n",
       "      <td>3274.0</td>\n",
       "    </tr>\n",
       "    <tr>\n",
       "      <th>18</th>\n",
       "      <td>20200412</td>\n",
       "      <td>KS</td>\n",
       "      <td>1337.0</td>\n",
       "      <td>11916.0</td>\n",
       "      <td>NaN</td>\n",
       "      <td>NaN</td>\n",
       "      <td>298.0</td>\n",
       "      <td>NaN</td>\n",
       "      <td>NaN</td>\n",
       "      <td>NaN</td>\n",
       "      <td>...</td>\n",
       "      <td>298.0</td>\n",
       "      <td>13253.0</td>\n",
       "      <td>13253.0</td>\n",
       "      <td>13253.0</td>\n",
       "      <td>20</td>\n",
       "      <td>1.0</td>\n",
       "      <td>5.0</td>\n",
       "      <td>841.0</td>\n",
       "      <td>69.0</td>\n",
       "      <td>910.0</td>\n",
       "    </tr>\n",
       "    <tr>\n",
       "      <th>19</th>\n",
       "      <td>20200412</td>\n",
       "      <td>KY</td>\n",
       "      <td>1840.0</td>\n",
       "      <td>22727.0</td>\n",
       "      <td>NaN</td>\n",
       "      <td>271.0</td>\n",
       "      <td>459.0</td>\n",
       "      <td>105.0</td>\n",
       "      <td>177.0</td>\n",
       "      <td>NaN</td>\n",
       "      <td>...</td>\n",
       "      <td>459.0</td>\n",
       "      <td>24567.0</td>\n",
       "      <td>24567.0</td>\n",
       "      <td>24567.0</td>\n",
       "      <td>21</td>\n",
       "      <td>4.0</td>\n",
       "      <td>0.0</td>\n",
       "      <td>132.0</td>\n",
       "      <td>147.0</td>\n",
       "      <td>279.0</td>\n",
       "    </tr>\n",
       "  </tbody>\n",
       "</table>\n",
       "<p>20 rows × 25 columns</p>\n",
       "</div>"
      ],
      "text/plain": [
       "        date state  positive  negative  pending  hospitalizedCurrently  \\\n",
       "0   20200412    AK     272.0    7766.0      NaN                    NaN   \n",
       "1   20200412    AL    3525.0   18058.0      NaN                    NaN   \n",
       "2   20200412    AR    1280.0   18442.0      NaN                   74.0   \n",
       "3   20200412    AS       0.0       3.0      2.0                    NaN   \n",
       "4   20200412    AZ    3539.0   38570.0      NaN                    NaN   \n",
       "5   20200412    CA   21794.0  168534.0  13200.0                 5234.0   \n",
       "6   20200412    CO    6893.0   27980.0      NaN                    NaN   \n",
       "7   20200412    CT   12035.0   29185.0      NaN                 1654.0   \n",
       "8   20200412    DC    1875.0    8765.0      NaN                    NaN   \n",
       "9   20200412    DE    1479.0    9624.0      NaN                  190.0   \n",
       "10  20200412    FL   19355.0  163398.0   1297.0                    NaN   \n",
       "11  20200412    GA   12452.0   42001.0      NaN                    NaN   \n",
       "12  20200412    GU     133.0     693.0      NaN                   13.0   \n",
       "13  20200412    HI     486.0   17482.0      NaN                    NaN   \n",
       "14  20200412    IA    1587.0   16005.0      NaN                  129.0   \n",
       "15  20200412    ID    1407.0   12901.0      NaN                    NaN   \n",
       "16  20200412    IL   20852.0   79883.0      NaN                 3680.0   \n",
       "17  20200412    IN    7928.0   34561.0      NaN                    NaN   \n",
       "18  20200412    KS    1337.0   11916.0      NaN                    NaN   \n",
       "19  20200412    KY    1840.0   22727.0      NaN                  271.0   \n",
       "\n",
       "    hospitalizedCumulative  inIcuCurrently  inIcuCumulative  \\\n",
       "0                     31.0             NaN              NaN   \n",
       "1                    437.0             NaN            189.0   \n",
       "2                    130.0             NaN             43.0   \n",
       "3                      NaN             NaN              NaN   \n",
       "4                      NaN             NaN              NaN   \n",
       "5                      NaN          1539.0              NaN   \n",
       "6                   1376.0             NaN              NaN   \n",
       "7                      NaN             NaN              NaN   \n",
       "8                      NaN             NaN              NaN   \n",
       "9                      NaN             NaN              NaN   \n",
       "10                  2772.0             NaN              NaN   \n",
       "11                  2505.0             NaN              NaN   \n",
       "12                     NaN             2.0              NaN   \n",
       "13                    44.0             NaN              6.0   \n",
       "14                     NaN            55.0              NaN   \n",
       "15                   131.0             NaN             38.0   \n",
       "16                     NaN          1166.0              NaN   \n",
       "17                     NaN           820.0              NaN   \n",
       "18                   298.0             NaN              NaN   \n",
       "19                   459.0           105.0            177.0   \n",
       "\n",
       "    onVentilatorCurrently  ...  hospitalized     total totalTestResults  \\\n",
       "0                     NaN  ...          31.0    8038.0           8038.0   \n",
       "1                     NaN  ...         437.0   21583.0          21583.0   \n",
       "2                    30.0  ...         130.0   19722.0          19722.0   \n",
       "3                     NaN  ...           NaN       5.0              3.0   \n",
       "4                     NaN  ...           NaN   42109.0          42109.0   \n",
       "5                     NaN  ...           NaN  203528.0         190328.0   \n",
       "6                     NaN  ...        1376.0   34873.0          34873.0   \n",
       "7                     NaN  ...           NaN   41220.0          41220.0   \n",
       "8                     NaN  ...           NaN   10640.0          10640.0   \n",
       "9                     NaN  ...           NaN   11103.0          11103.0   \n",
       "10                    NaN  ...        2772.0  184050.0         182753.0   \n",
       "11                    NaN  ...        2505.0   54453.0          54453.0   \n",
       "12                    2.0  ...           NaN     826.0            826.0   \n",
       "13                    NaN  ...          44.0   17968.0          17968.0   \n",
       "14                   30.0  ...           NaN   17592.0          17592.0   \n",
       "15                    NaN  ...         131.0   14308.0          14308.0   \n",
       "16                  821.0  ...           NaN  100735.0         100735.0   \n",
       "17                  497.0  ...           NaN   42489.0          42489.0   \n",
       "18                    NaN  ...         298.0   13253.0          13253.0   \n",
       "19                    NaN  ...         459.0   24567.0          24567.0   \n",
       "\n",
       "      posNeg  fips  deathIncrease  hospitalizedIncrease  negativeIncrease  \\\n",
       "0     8038.0     2            0.0                   0.0             291.0   \n",
       "1    21583.0     1            2.0                  35.0               0.0   \n",
       "2    19722.0     5            3.0                   0.0            1090.0   \n",
       "3        3.0    60            0.0                   0.0               0.0   \n",
       "4    42109.0     4            7.0                   0.0            1433.0   \n",
       "5   190328.0     6          110.0                   0.0           15930.0   \n",
       "6    34873.0     8           24.0                  64.0            1837.0   \n",
       "7    41220.0     9           60.0                   0.0             864.0   \n",
       "8    10640.0    11            3.0                   0.0             504.0   \n",
       "9    11103.0    10            0.0                   0.0               0.0   \n",
       "10  182753.0    12           27.0                 111.0            8959.0   \n",
       "11   54453.0    13            5.0                  26.0            2445.0   \n",
       "12     826.0    66            0.0                   0.0               0.0   \n",
       "13   17968.0    15            0.0                   1.0             416.0   \n",
       "14   17592.0    19            7.0                   0.0             383.0   \n",
       "15   14308.0    16            2.0                   3.0             533.0   \n",
       "16  100735.0    17           43.0                   0.0            6914.0   \n",
       "17   42489.0    18           13.0                   0.0            2781.0   \n",
       "18   13253.0    20            1.0                   5.0             841.0   \n",
       "19   24567.0    21            4.0                   0.0             132.0   \n",
       "\n",
       "    positiveIncrease  totalTestResultsIncrease  \n",
       "0               15.0                     306.0  \n",
       "1              334.0                     334.0  \n",
       "2               54.0                    1144.0  \n",
       "3                0.0                       0.0  \n",
       "4              146.0                    1579.0  \n",
       "5             2322.0                   18252.0  \n",
       "6              383.0                    2220.0  \n",
       "7              525.0                    1389.0  \n",
       "8               97.0                     601.0  \n",
       "9                0.0                       0.0  \n",
       "10             861.0                    9820.0  \n",
       "11             293.0                    2738.0  \n",
       "12               0.0                       0.0  \n",
       "13              21.0                     437.0  \n",
       "14              77.0                     460.0  \n",
       "15              11.0                     544.0  \n",
       "16            1672.0                    8586.0  \n",
       "17             493.0                    3274.0  \n",
       "18              69.0                     910.0  \n",
       "19             147.0                     279.0  \n",
       "\n",
       "[20 rows x 25 columns]"
      ]
     },
     "execution_count": 7,
     "metadata": {},
     "output_type": "execute_result"
    }
   ],
   "source": [
    "df.head(20)"
   ]
  },
  {
   "cell_type": "code",
   "execution_count": 8,
   "metadata": {},
   "outputs": [
    {
     "data": {
      "text/plain": [
       "date                           0\n",
       "state                          0\n",
       "positive                      15\n",
       "negative                     152\n",
       "pending                     1599\n",
       "hospitalizedCurrently       1747\n",
       "hospitalizedCumulative      1522\n",
       "inIcuCurrently              1966\n",
       "inIcuCumulative             2025\n",
       "onVentilatorCurrently       1983\n",
       "onVentilatorCumulative      2087\n",
       "recovered                   1766\n",
       "hash                           0\n",
       "dateChecked                    0\n",
       "death                        705\n",
       "hospitalized                1522\n",
       "total                          2\n",
       "totalTestResults               2\n",
       "posNeg                         2\n",
       "fips                           0\n",
       "deathIncrease                 56\n",
       "hospitalizedIncrease          56\n",
       "negativeIncrease              56\n",
       "positiveIncrease              56\n",
       "totalTestResultsIncrease      56\n",
       "dtype: int64"
      ]
     },
     "execution_count": 8,
     "metadata": {},
     "output_type": "execute_result"
    }
   ],
   "source": [
    "df.isnull().sum()"
   ]
  },
  {
   "cell_type": "code",
   "execution_count": null,
   "metadata": {},
   "outputs": [],
   "source": []
  },
  {
   "cell_type": "code",
   "execution_count": null,
   "metadata": {},
   "outputs": [],
   "source": [
    "# lets make year and quarter as a index"
   ]
  },
  {
   "cell_type": "code",
   "execution_count": 9,
   "metadata": {},
   "outputs": [
    {
     "data": {
      "text/html": [
       "<div>\n",
       "<style scoped>\n",
       "    .dataframe tbody tr th:only-of-type {\n",
       "        vertical-align: middle;\n",
       "    }\n",
       "\n",
       "    .dataframe tbody tr th {\n",
       "        vertical-align: top;\n",
       "    }\n",
       "\n",
       "    .dataframe thead th {\n",
       "        text-align: right;\n",
       "    }\n",
       "</style>\n",
       "<table border=\"1\" class=\"dataframe\">\n",
       "  <thead>\n",
       "    <tr style=\"text-align: right;\">\n",
       "      <th></th>\n",
       "      <th>Year</th>\n",
       "      <th>Quarter</th>\n",
       "      <th>Quantity</th>\n",
       "      <th>Price</th>\n",
       "    </tr>\n",
       "  </thead>\n",
       "  <tbody>\n",
       "    <tr>\n",
       "      <th>81</th>\n",
       "      <td>1997</td>\n",
       "      <td>2</td>\n",
       "      <td>17.2994</td>\n",
       "      <td>278.9667</td>\n",
       "    </tr>\n",
       "    <tr>\n",
       "      <th>82</th>\n",
       "      <td>1997</td>\n",
       "      <td>3</td>\n",
       "      <td>17.0513</td>\n",
       "      <td>281.0667</td>\n",
       "    </tr>\n",
       "    <tr>\n",
       "      <th>83</th>\n",
       "      <td>1997</td>\n",
       "      <td>4</td>\n",
       "      <td>16.2354</td>\n",
       "      <td>279.3000</td>\n",
       "    </tr>\n",
       "    <tr>\n",
       "      <th>84</th>\n",
       "      <td>1998</td>\n",
       "      <td>1</td>\n",
       "      <td>16.6884</td>\n",
       "      <td>273.4667</td>\n",
       "    </tr>\n",
       "    <tr>\n",
       "      <th>85</th>\n",
       "      <td>1998</td>\n",
       "      <td>2</td>\n",
       "      <td>17.1985</td>\n",
       "      <td>278.1000</td>\n",
       "    </tr>\n",
       "    <tr>\n",
       "      <th>86</th>\n",
       "      <td>1998</td>\n",
       "      <td>3</td>\n",
       "      <td>17.5085</td>\n",
       "      <td>277.3667</td>\n",
       "    </tr>\n",
       "    <tr>\n",
       "      <th>87</th>\n",
       "      <td>1998</td>\n",
       "      <td>4</td>\n",
       "      <td>16.6475</td>\n",
       "      <td>279.5333</td>\n",
       "    </tr>\n",
       "    <tr>\n",
       "      <th>88</th>\n",
       "      <td>1999</td>\n",
       "      <td>1</td>\n",
       "      <td>16.6785</td>\n",
       "      <td>278.0000</td>\n",
       "    </tr>\n",
       "    <tr>\n",
       "      <th>89</th>\n",
       "      <td>1999</td>\n",
       "      <td>2</td>\n",
       "      <td>17.7635</td>\n",
       "      <td>284.7667</td>\n",
       "    </tr>\n",
       "    <tr>\n",
       "      <th>90</th>\n",
       "      <td>1999</td>\n",
       "      <td>3</td>\n",
       "      <td>17.6689</td>\n",
       "      <td>289.2333</td>\n",
       "    </tr>\n",
       "  </tbody>\n",
       "</table>\n",
       "</div>"
      ],
      "text/plain": [
       "    Year  Quarter  Quantity     Price\n",
       "81  1997        2   17.2994  278.9667\n",
       "82  1997        3   17.0513  281.0667\n",
       "83  1997        4   16.2354  279.3000\n",
       "84  1998        1   16.6884  273.4667\n",
       "85  1998        2   17.1985  278.1000\n",
       "86  1998        3   17.5085  277.3667\n",
       "87  1998        4   16.6475  279.5333\n",
       "88  1999        1   16.6785  278.0000\n",
       "89  1999        2   17.7635  284.7667\n",
       "90  1999        3   17.6689  289.2333"
      ]
     },
     "execution_count": 9,
     "metadata": {},
     "output_type": "execute_result"
    }
   ],
   "source": [
    "# since this is time series data we can make  split just by time\n",
    "df.tail(10)"
   ]
  },
  {
   "cell_type": "markdown",
   "metadata": {},
   "source": [
    "#### Splitting data for training and testing"
   ]
  },
  {
   "cell_type": "code",
   "execution_count": 56,
   "metadata": {},
   "outputs": [],
   "source": [
    "# lets keep data from 1988 as test data\n",
    "train_df = df[:80]\n",
    "test_df = df[80:]"
   ]
  },
  {
   "cell_type": "code",
   "execution_count": 57,
   "metadata": {},
   "outputs": [
    {
     "data": {
      "text/html": [
       "<div>\n",
       "<style scoped>\n",
       "    .dataframe tbody tr th:only-of-type {\n",
       "        vertical-align: middle;\n",
       "    }\n",
       "\n",
       "    .dataframe tbody tr th {\n",
       "        vertical-align: top;\n",
       "    }\n",
       "\n",
       "    .dataframe thead th {\n",
       "        text-align: right;\n",
       "    }\n",
       "</style>\n",
       "<table border=\"1\" class=\"dataframe\">\n",
       "  <thead>\n",
       "    <tr style=\"text-align: right;\">\n",
       "      <th></th>\n",
       "      <th>Year</th>\n",
       "      <th>Quarter</th>\n",
       "      <th>Quantity</th>\n",
       "      <th>Price</th>\n",
       "    </tr>\n",
       "  </thead>\n",
       "  <tbody>\n",
       "    <tr>\n",
       "      <th>75</th>\n",
       "      <td>1995</td>\n",
       "      <td>4</td>\n",
       "      <td>16.3476</td>\n",
       "      <td>285.2667</td>\n",
       "    </tr>\n",
       "    <tr>\n",
       "      <th>76</th>\n",
       "      <td>1996</td>\n",
       "      <td>1</td>\n",
       "      <td>17.0783</td>\n",
       "      <td>278.7000</td>\n",
       "    </tr>\n",
       "    <tr>\n",
       "      <th>77</th>\n",
       "      <td>1996</td>\n",
       "      <td>2</td>\n",
       "      <td>17.6763</td>\n",
       "      <td>277.4000</td>\n",
       "    </tr>\n",
       "    <tr>\n",
       "      <th>78</th>\n",
       "      <td>1996</td>\n",
       "      <td>3</td>\n",
       "      <td>17.1606</td>\n",
       "      <td>279.8000</td>\n",
       "    </tr>\n",
       "    <tr>\n",
       "      <th>79</th>\n",
       "      <td>1996</td>\n",
       "      <td>4</td>\n",
       "      <td>16.2764</td>\n",
       "      <td>285.0333</td>\n",
       "    </tr>\n",
       "  </tbody>\n",
       "</table>\n",
       "</div>"
      ],
      "text/plain": [
       "    Year  Quarter  Quantity     Price\n",
       "75  1995        4   16.3476  285.2667\n",
       "76  1996        1   17.0783  278.7000\n",
       "77  1996        2   17.6763  277.4000\n",
       "78  1996        3   17.1606  279.8000\n",
       "79  1996        4   16.2764  285.0333"
      ]
     },
     "execution_count": 57,
     "metadata": {},
     "output_type": "execute_result"
    }
   ],
   "source": [
    "train_df.tail()"
   ]
  },
  {
   "cell_type": "code",
   "execution_count": 58,
   "metadata": {},
   "outputs": [
    {
     "data": {
      "text/html": [
       "<div>\n",
       "<style scoped>\n",
       "    .dataframe tbody tr th:only-of-type {\n",
       "        vertical-align: middle;\n",
       "    }\n",
       "\n",
       "    .dataframe tbody tr th {\n",
       "        vertical-align: top;\n",
       "    }\n",
       "\n",
       "    .dataframe thead th {\n",
       "        text-align: right;\n",
       "    }\n",
       "</style>\n",
       "<table border=\"1\" class=\"dataframe\">\n",
       "  <thead>\n",
       "    <tr style=\"text-align: right;\">\n",
       "      <th></th>\n",
       "      <th>Year</th>\n",
       "      <th>Quarter</th>\n",
       "      <th>Quantity</th>\n",
       "      <th>Price</th>\n",
       "    </tr>\n",
       "  </thead>\n",
       "  <tbody>\n",
       "    <tr>\n",
       "      <th>80</th>\n",
       "      <td>1997</td>\n",
       "      <td>1</td>\n",
       "      <td>16.2921</td>\n",
       "      <td>278.8000</td>\n",
       "    </tr>\n",
       "    <tr>\n",
       "      <th>81</th>\n",
       "      <td>1997</td>\n",
       "      <td>2</td>\n",
       "      <td>17.2994</td>\n",
       "      <td>278.9667</td>\n",
       "    </tr>\n",
       "    <tr>\n",
       "      <th>82</th>\n",
       "      <td>1997</td>\n",
       "      <td>3</td>\n",
       "      <td>17.0513</td>\n",
       "      <td>281.0667</td>\n",
       "    </tr>\n",
       "    <tr>\n",
       "      <th>83</th>\n",
       "      <td>1997</td>\n",
       "      <td>4</td>\n",
       "      <td>16.2354</td>\n",
       "      <td>279.3000</td>\n",
       "    </tr>\n",
       "    <tr>\n",
       "      <th>84</th>\n",
       "      <td>1998</td>\n",
       "      <td>1</td>\n",
       "      <td>16.6884</td>\n",
       "      <td>273.4667</td>\n",
       "    </tr>\n",
       "    <tr>\n",
       "      <th>85</th>\n",
       "      <td>1998</td>\n",
       "      <td>2</td>\n",
       "      <td>17.1985</td>\n",
       "      <td>278.1000</td>\n",
       "    </tr>\n",
       "    <tr>\n",
       "      <th>86</th>\n",
       "      <td>1998</td>\n",
       "      <td>3</td>\n",
       "      <td>17.5085</td>\n",
       "      <td>277.3667</td>\n",
       "    </tr>\n",
       "    <tr>\n",
       "      <th>87</th>\n",
       "      <td>1998</td>\n",
       "      <td>4</td>\n",
       "      <td>16.6475</td>\n",
       "      <td>279.5333</td>\n",
       "    </tr>\n",
       "    <tr>\n",
       "      <th>88</th>\n",
       "      <td>1999</td>\n",
       "      <td>1</td>\n",
       "      <td>16.6785</td>\n",
       "      <td>278.0000</td>\n",
       "    </tr>\n",
       "    <tr>\n",
       "      <th>89</th>\n",
       "      <td>1999</td>\n",
       "      <td>2</td>\n",
       "      <td>17.7635</td>\n",
       "      <td>284.7667</td>\n",
       "    </tr>\n",
       "    <tr>\n",
       "      <th>90</th>\n",
       "      <td>1999</td>\n",
       "      <td>3</td>\n",
       "      <td>17.6689</td>\n",
       "      <td>289.2333</td>\n",
       "    </tr>\n",
       "  </tbody>\n",
       "</table>\n",
       "</div>"
      ],
      "text/plain": [
       "    Year  Quarter  Quantity     Price\n",
       "80  1997        1   16.2921  278.8000\n",
       "81  1997        2   17.2994  278.9667\n",
       "82  1997        3   17.0513  281.0667\n",
       "83  1997        4   16.2354  279.3000\n",
       "84  1998        1   16.6884  273.4667\n",
       "85  1998        2   17.1985  278.1000\n",
       "86  1998        3   17.5085  277.3667\n",
       "87  1998        4   16.6475  279.5333\n",
       "88  1999        1   16.6785  278.0000\n",
       "89  1999        2   17.7635  284.7667\n",
       "90  1999        3   17.6689  289.2333"
      ]
     },
     "execution_count": 58,
     "metadata": {},
     "output_type": "execute_result"
    }
   ],
   "source": [
    "test_df"
   ]
  },
  {
   "cell_type": "markdown",
   "metadata": {},
   "source": [
    "### Prediction usign OLS and Recursive OLS"
   ]
  },
  {
   "cell_type": "markdown",
   "metadata": {},
   "source": [
    "#### Simple OLS Regression"
   ]
  },
  {
   "cell_type": "code",
   "execution_count": 59,
   "metadata": {},
   "outputs": [
    {
     "name": "stdout",
     "output_type": "stream",
     "text": [
      "                            OLS Regression Results                            \n",
      "==============================================================================\n",
      "Dep. Variable:               Quantity   R-squared:                       0.907\n",
      "Model:                            OLS   Adj. R-squared:                  0.906\n",
      "Method:                 Least Squares   F-statistic:                     762.5\n",
      "Date:                Sun, 12 Apr 2020   Prob (F-statistic):           5.12e-42\n",
      "Time:                        01:31:14   Log-Likelihood:                -66.866\n",
      "No. Observations:                  80   AIC:                             137.7\n",
      "Df Residuals:                      78   BIC:                             142.5\n",
      "Df Model:                           1                                         \n",
      "Covariance Type:            nonrobust                                         \n",
      "==============================================================================\n",
      "                 coef    std err          t      P>|t|      [0.025      0.975]\n",
      "------------------------------------------------------------------------------\n",
      "Intercept     30.0742      0.420     71.528      0.000      29.237      30.911\n",
      "Price         -0.0466      0.002    -27.614      0.000      -0.050      -0.043\n",
      "==============================================================================\n",
      "Omnibus:                        2.109   Durbin-Watson:                   1.594\n",
      "Prob(Omnibus):                  0.348   Jarque-Bera (JB):                1.730\n",
      "Skew:                           0.211   Prob(JB):                        0.421\n",
      "Kurtosis:                       2.416   Cond. No.                     1.66e+03\n",
      "==============================================================================\n",
      "\n",
      "Warnings:\n",
      "[1] Standard Errors assume that the covariance matrix of the errors is correctly specified.\n",
      "[2] The condition number is large, 1.66e+03. This might indicate that there are\n",
      "strong multicollinearity or other numerical problems.\n"
     ]
    }
   ],
   "source": [
    "ols_model = ols(\"Quantity ~ Price\", data=train_df).fit()\n",
    "print(ols_model.summary())"
   ]
  },
  {
   "cell_type": "code",
   "execution_count": 60,
   "metadata": {},
   "outputs": [
    {
     "data": {
      "image/png": "[encoded data removed]",
      "text/plain": [
       "<Figure size 864x576 with 4 Axes>"
      ]
     },
     "metadata": {
      "needs_background": "light"
     },
     "output_type": "display_data"
    }
   ],
   "source": [
    "fig = plt.figure(figsize=(12,8))\n",
    "fig = sm.graphics.plot_regress_exog(ols_model, 'Price', fig=fig)"
   ]
  },
  {
   "cell_type": "code",
   "execution_count": 61,
   "metadata": {},
   "outputs": [
    {
     "data": {
      "text/plain": [
       "80    17.086190\n",
       "81    17.078424\n",
       "82    16.980595\n",
       "83    17.062897\n",
       "84    17.334643\n",
       "85    17.118799\n",
       "86    17.152960\n",
       "87    17.052029\n",
       "88    17.123458\n",
       "89    16.808229\n",
       "90    16.600151\n",
       "dtype: float64"
      ]
     },
     "execution_count": 61,
     "metadata": {},
     "output_type": "execute_result"
    }
   ],
   "source": [
    "# making prediction\n",
    "ols_model.predict(test_df['Price'])"
   ]
  },
  {
   "cell_type": "code",
   "execution_count": 71,
   "metadata": {},
   "outputs": [
    {
     "data": {
      "image/png": "[encoded data removed]",
      "text/plain": [
       "<Figure size 432x288 with 1 Axes>"
      ]
     },
     "metadata": {
      "needs_background": "light"
     },
     "output_type": "display_data"
    }
   ],
   "source": [
    "fig, ax = plt.subplots()\n",
    "ax.plot(ols_model.predict(test_df), 'o-', label=\"Predictions\")\n",
    "ax.plot(test_df['Quantity'], '+-', label=\"Actual\")\n",
    "# ax.plot(np.hstack((x1, x1n)), np.hstack((ypred, ynewpred)), 'r', label=\"OLS prediction\")\n",
    "ax.legend(loc=\"best\");"
   ]
  },
  {
   "cell_type": "markdown",
   "metadata": {},
   "source": [
    "#### Recursinve OLS Model"
   ]
  },
  {
   "cell_type": "code",
   "execution_count": 63,
   "metadata": {},
   "outputs": [],
   "source": [
    "# Defining dependent variable\n",
    "endog = train_df['Quantity']\n",
    "\n",
    "# To the regressors in the dataset, we add a column of ones for an intercept\n",
    "exog = sm.add_constant(train_df['Price'])"
   ]
  },
  {
   "cell_type": "code",
   "execution_count": 64,
   "metadata": {},
   "outputs": [
    {
     "name": "stdout",
     "output_type": "stream",
     "text": [
      "                           Statespace Model Results                           \n",
      "==============================================================================\n",
      "Dep. Variable:               Quantity   No. Observations:                   80\n",
      "Model:                    RecursiveLS   Log Likelihood                 -76.025\n",
      "Date:                Sun, 12 Apr 2020   R-squared:                       0.907\n",
      "Time:                        01:31:15   AIC                            156.051\n",
      "Sample:                             0   BIC                            160.815\n",
      "                                 - 80   HQIC                           157.961\n",
      "Covariance Type:            nonrobust   Scale                            0.320\n",
      "==============================================================================\n",
      "                 coef    std err          z      P>|z|      [0.025      0.975]\n",
      "------------------------------------------------------------------------------\n",
      "const         30.0742      0.420     71.528      0.000      29.250      30.898\n",
      "Price         -0.0466      0.002    -27.614      0.000      -0.050      -0.043\n",
      "===================================================================================\n",
      "Ljung-Box (Q):                      351.52   Jarque-Bera (JB):                 0.95\n",
      "Prob(Q):                              0.00   Prob(JB):                         0.62\n",
      "Heteroskedasticity (H):               1.14   Skew:                             0.03\n",
      "Prob(H) (two-sided):                  0.75   Kurtosis:                         2.46\n",
      "===================================================================================\n",
      "\n",
      "Warnings:\n",
      "[1] Parameters and covariance matrix estimates are RLS estimates conditional on the entire sample.\n"
     ]
    }
   ],
   "source": [
    "mod = sm.RecursiveLS(endog, exog)\n",
    "res = mod.fit()\n",
    "\n",
    "print(res.summary())"
   ]
  },
  {
   "cell_type": "code",
   "execution_count": 65,
   "metadata": {},
   "outputs": [
    {
     "data": {
      "image/png": "[encoded data removed]",
      "text/plain": [
       "<Figure size 720x432 with 2 Axes>"
      ]
     },
     "metadata": {
      "needs_background": "light"
     },
     "output_type": "display_data"
    }
   ],
   "source": [
    "res.plot_recursive_coefficient(range(mod.k_exog), alpha=None, figsize=(10,6));"
   ]
  },
  {
   "cell_type": "code",
   "execution_count": 66,
   "metadata": {},
   "outputs": [
    {
     "data": {
      "image/png": "[encoded data removed]",
      "text/plain": [
       "<Figure size 720x432 with 1 Axes>"
      ]
     },
     "metadata": {
      "needs_background": "light"
     },
     "output_type": "display_data"
    }
   ],
   "source": [
    "fig = res.plot_cusum(figsize=(10,6))"
   ]
  },
  {
   "cell_type": "code",
   "execution_count": 67,
   "metadata": {},
   "outputs": [
    {
     "name": "stdout",
     "output_type": "stream",
     "text": [
      "0      0.000000\n",
      "1     23.283360\n",
      "2     22.054458\n",
      "3     23.728578\n",
      "4     22.847576\n",
      "        ...    \n",
      "75    16.796227\n",
      "76    17.089335\n",
      "77    17.149642\n",
      "78    17.049848\n",
      "79    16.809565\n",
      "Length: 80, dtype: float64\n"
     ]
    }
   ],
   "source": [
    "print(mod.smooth().predict())"
   ]
  },
  {
   "cell_type": "markdown",
   "metadata": {},
   "source": [
    "#### And a simple GLM Model"
   ]
  },
  {
   "cell_type": "code",
   "execution_count": 68,
   "metadata": {},
   "outputs": [
    {
     "name": "stdout",
     "output_type": "stream",
     "text": [
      "                 Generalized Linear Model Regression Results                  \n",
      "==============================================================================\n",
      "Dep. Variable:               Quantity   No. Observations:                   80\n",
      "Model:                            GLM   Df Residuals:                       78\n",
      "Model Family:                Gaussian   Df Model:                            1\n",
      "Link Function:               identity   Scale:                         0.31953\n",
      "Method:                          IRLS   Log-Likelihood:                -66.866\n",
      "Date:                Sun, 12 Apr 2020   Deviance:                       24.924\n",
      "Time:                        01:31:18   Pearson chi2:                     24.9\n",
      "No. Iterations:                     3                                         \n",
      "Covariance Type:            nonrobust                                         \n",
      "==============================================================================\n",
      "                 coef    std err          z      P>|z|      [0.025      0.975]\n",
      "------------------------------------------------------------------------------\n",
      "const         30.0742      0.420     71.528      0.000      29.250      30.898\n",
      "Price         -0.0466      0.002    -27.614      0.000      -0.050      -0.043\n",
      "==============================================================================\n"
     ]
    }
   ],
   "source": [
    "glm_model = sm.GLM(endog, exog).fit()\n",
    "print(glm_model.summary())"
   ]
  },
  {
   "cell_type": "code",
   "execution_count": 69,
   "metadata": {},
   "outputs": [
    {
     "data": {
      "text/plain": [
       "80    17.086190\n",
       "81    17.078424\n",
       "82    16.980595\n",
       "83    17.062897\n",
       "84    17.334643\n",
       "85    17.118799\n",
       "86    17.152960\n",
       "87    17.052029\n",
       "88    17.123458\n",
       "89    16.808229\n",
       "90    16.600151\n",
       "dtype: float64"
      ]
     },
     "execution_count": 69,
     "metadata": {},
     "output_type": "execute_result"
    }
   ],
   "source": [
    "glm_model.predict(sm.add_constant(test_df['Price']))"
   ]
  },
  {
   "cell_type": "code",
   "execution_count": 70,
   "metadata": {},
   "outputs": [
    {
     "data": {
      "image/png": "[encoded data removed]",
      "text/plain": [
       "<Figure size 432x288 with 1 Axes>"
      ]
     },
     "metadata": {
      "needs_background": "light"
     },
     "output_type": "display_data"
    }
   ],
   "source": [
    "fig, ax = plt.subplots()\n",
    "ax.plot(glm_model.predict(sm.add_constant(test_df['Price'])), 'o-', label=\"Prediciton\")\n",
    "ax.plot(test_df['Quantity'], '+-', label=\"Data\")\n",
    "# ax.plot(np.hstack((x1, x1n)), np.hstack((ypred, ynewpred)), 'r', label=\"OLS prediction\")\n",
    "ax.legend(loc=\"best\");"
   ]
  },
  {
   "cell_type": "code",
   "execution_count": null,
   "metadata": {},
   "outputs": [],
   "source": []
  },
  {
   "cell_type": "code",
   "execution_count": null,
   "metadata": {},
   "outputs": [],
   "source": []
  },
  {
   "cell_type": "markdown",
   "metadata": {},
   "source": [
    "#### c) SUMMARIZE RESULT & CHECK GRAPH (RANDOM FOREST & LINREG)"
   ]
  },
  {
   "cell_type": "code",
   "execution_count": 72,
   "metadata": {},
   "outputs": [
    {
     "name": "stderr",
     "output_type": "stream",
     "text": [
      "C:\\Users\\jkapila\\AppData\\Local\\Continuum\\anaconda3\\lib\\site-packages\\numpy\\core\\fromnumeric.py:2389: FutureWarning: Method .ptp is deprecated and will be removed in a future version. Use numpy.ptp instead.\n",
      "  return ptp(axis=axis, out=out, **kwargs)\n"
     ]
    },
    {
     "data": {
      "text/html": [
       "<div>\n",
       "<style scoped>\n",
       "    .dataframe tbody tr th:only-of-type {\n",
       "        vertical-align: middle;\n",
       "    }\n",
       "\n",
       "    .dataframe tbody tr th {\n",
       "        vertical-align: top;\n",
       "    }\n",
       "\n",
       "    .dataframe thead th {\n",
       "        text-align: right;\n",
       "    }\n",
       "</style>\n",
       "<table border=\"1\" class=\"dataframe\">\n",
       "  <thead>\n",
       "    <tr style=\"text-align: right;\">\n",
       "      <th></th>\n",
       "      <th>test_x</th>\n",
       "      <th>test_y</th>\n",
       "      <th>test_ols_pred</th>\n",
       "      <th>test_glm_pred</th>\n",
       "      <th>diff_rf_actual</th>\n",
       "      <th>diff_lr_actual</th>\n",
       "    </tr>\n",
       "  </thead>\n",
       "  <tbody>\n",
       "    <tr>\n",
       "      <th>80</th>\n",
       "      <td>278.8000</td>\n",
       "      <td>16.2921</td>\n",
       "      <td>17.086190</td>\n",
       "      <td>17.086190</td>\n",
       "      <td>0.794090</td>\n",
       "      <td>0.794090</td>\n",
       "    </tr>\n",
       "    <tr>\n",
       "      <th>81</th>\n",
       "      <td>278.9667</td>\n",
       "      <td>17.2994</td>\n",
       "      <td>17.078424</td>\n",
       "      <td>17.078424</td>\n",
       "      <td>-0.220976</td>\n",
       "      <td>-0.220976</td>\n",
       "    </tr>\n",
       "    <tr>\n",
       "      <th>82</th>\n",
       "      <td>281.0667</td>\n",
       "      <td>17.0513</td>\n",
       "      <td>16.980595</td>\n",
       "      <td>16.980595</td>\n",
       "      <td>-0.070705</td>\n",
       "      <td>-0.070705</td>\n",
       "    </tr>\n",
       "    <tr>\n",
       "      <th>83</th>\n",
       "      <td>279.3000</td>\n",
       "      <td>16.2354</td>\n",
       "      <td>17.062897</td>\n",
       "      <td>17.062897</td>\n",
       "      <td>0.827497</td>\n",
       "      <td>0.827497</td>\n",
       "    </tr>\n",
       "    <tr>\n",
       "      <th>84</th>\n",
       "      <td>273.4667</td>\n",
       "      <td>16.6884</td>\n",
       "      <td>17.334643</td>\n",
       "      <td>17.334643</td>\n",
       "      <td>0.646243</td>\n",
       "      <td>0.646243</td>\n",
       "    </tr>\n",
       "    <tr>\n",
       "      <th>85</th>\n",
       "      <td>278.1000</td>\n",
       "      <td>17.1985</td>\n",
       "      <td>17.118799</td>\n",
       "      <td>17.118799</td>\n",
       "      <td>-0.079701</td>\n",
       "      <td>-0.079701</td>\n",
       "    </tr>\n",
       "    <tr>\n",
       "      <th>86</th>\n",
       "      <td>277.3667</td>\n",
       "      <td>17.5085</td>\n",
       "      <td>17.152960</td>\n",
       "      <td>17.152960</td>\n",
       "      <td>-0.355540</td>\n",
       "      <td>-0.355540</td>\n",
       "    </tr>\n",
       "    <tr>\n",
       "      <th>87</th>\n",
       "      <td>279.5333</td>\n",
       "      <td>16.6475</td>\n",
       "      <td>17.052029</td>\n",
       "      <td>17.052029</td>\n",
       "      <td>0.404529</td>\n",
       "      <td>0.404529</td>\n",
       "    </tr>\n",
       "    <tr>\n",
       "      <th>88</th>\n",
       "      <td>278.0000</td>\n",
       "      <td>16.6785</td>\n",
       "      <td>17.123458</td>\n",
       "      <td>17.123458</td>\n",
       "      <td>0.444958</td>\n",
       "      <td>0.444958</td>\n",
       "    </tr>\n",
       "    <tr>\n",
       "      <th>89</th>\n",
       "      <td>284.7667</td>\n",
       "      <td>17.7635</td>\n",
       "      <td>16.808229</td>\n",
       "      <td>16.808229</td>\n",
       "      <td>-0.955271</td>\n",
       "      <td>-0.955271</td>\n",
       "    </tr>\n",
       "    <tr>\n",
       "      <th>90</th>\n",
       "      <td>289.2333</td>\n",
       "      <td>17.6689</td>\n",
       "      <td>16.600151</td>\n",
       "      <td>16.600151</td>\n",
       "      <td>-1.068749</td>\n",
       "      <td>-1.068749</td>\n",
       "    </tr>\n",
       "  </tbody>\n",
       "</table>\n",
       "</div>"
      ],
      "text/plain": [
       "      test_x   test_y  test_ols_pred  test_glm_pred  diff_rf_actual  \\\n",
       "80  278.8000  16.2921      17.086190      17.086190        0.794090   \n",
       "81  278.9667  17.2994      17.078424      17.078424       -0.220976   \n",
       "82  281.0667  17.0513      16.980595      16.980595       -0.070705   \n",
       "83  279.3000  16.2354      17.062897      17.062897        0.827497   \n",
       "84  273.4667  16.6884      17.334643      17.334643        0.646243   \n",
       "85  278.1000  17.1985      17.118799      17.118799       -0.079701   \n",
       "86  277.3667  17.5085      17.152960      17.152960       -0.355540   \n",
       "87  279.5333  16.6475      17.052029      17.052029        0.404529   \n",
       "88  278.0000  16.6785      17.123458      17.123458        0.444958   \n",
       "89  284.7667  17.7635      16.808229      16.808229       -0.955271   \n",
       "90  289.2333  17.6689      16.600151      16.600151       -1.068749   \n",
       "\n",
       "    diff_lr_actual  \n",
       "80        0.794090  \n",
       "81       -0.220976  \n",
       "82       -0.070705  \n",
       "83        0.827497  \n",
       "84        0.646243  \n",
       "85       -0.079701  \n",
       "86       -0.355540  \n",
       "87        0.404529  \n",
       "88        0.444958  \n",
       "89       -0.955271  \n",
       "90       -1.068749  "
      ]
     },
     "execution_count": 72,
     "metadata": {},
     "output_type": "execute_result"
    }
   ],
   "source": [
    "df_summ = pd.DataFrame({'test_x': test_df['Price'],\n",
    "                        'test_y': test_df['Quantity'], \n",
    "                        'test_ols_pred': ols_model.predict(test_df), \n",
    "                        'test_glm_pred': glm_model.predict(sm.add_constant(test_df['Price']))})\n",
    "df_summ['diff_rf_actual'] = df_summ['test_ols_pred'] - df_summ['test_y']\n",
    "df_summ['diff_lr_actual'] = df_summ['test_glm_pred'] - df_summ['test_y']\n",
    "\n",
    "# toy data is simple, hence prediction is rather powerful as we only have few missed prediction\n",
    "# even so, in this kind of cases:\n",
    "# --> we will lose potential profit if prediction < demand\n",
    "# --> we will incur unnecessary cost if prediction > demand as we cannot sell the remaining goods at selling price \n",
    "df_summ[(df_summ['diff_rf_actual'] != 0) | (df_summ['diff_lr_actual'] != 0)] "
   ]
  },
  {
   "cell_type": "code",
   "execution_count": 75,
   "metadata": {},
   "outputs": [
    {
     "data": {
      "text/plain": [
       "<Figure size 432x288 with 0 Axes>"
      ]
     },
     "metadata": {},
     "output_type": "display_data"
    },
    {
     "data": {
      "image/png": "[encoded data removed]",
      "text/plain": [
       "<Figure size 432x288 with 1 Axes>"
      ]
     },
     "metadata": {
      "needs_background": "light"
     },
     "output_type": "display_data"
    }
   ],
   "source": [
    "plt.figure()\n",
    "\n",
    "components = [df_summ['test_y'], df_summ['test_ols_pred'], df_summ['test_glm_pred']]\n",
    "labels=['test_y', 'test_ols_pred', 'test_glm_pred']\n",
    "\n",
    "fig, axes = plt.subplots(1)\n",
    "for component in components:\n",
    "    sns.distplot(component)\n",
    "\n",
    "axes.legend(labels=labels)    \n",
    "plt.show()"
   ]
  },
  {
   "cell_type": "markdown",
   "metadata": {},
   "source": [
    "### 4) STOCHASTIC PROGRAMMING\n",
    "#### a) DISCRETIZING DEMAND: TO CAPTURE PROBABILITY OF EACH POSSIBLE SCENARIO"
   ]
  },
  {
   "cell_type": "code",
   "execution_count": 54,
   "metadata": {},
   "outputs": [],
   "source": [
    "# capturing probability of each possible scenario can be done in many ways, \n",
    "# ranging from simple descriptive analytics to more complicated things like\n",
    "# moment matching, monte carlo simulation, etc.\n",
    "# we do the easiest here: do clustering to generate scenario (max 100 scenario for now)\n",
    "\n",
    "from sklearn.cluster import KMeans"
   ]
  },
  {
   "cell_type": "code",
   "execution_count": 55,
   "metadata": {},
   "outputs": [],
   "source": [
    "def cluster_1d(df, max_cluster=100):\n",
    "    '''Cluster data into n different cluster where n is the minimum between unique scenario and max_cluster.\n",
    "    Input:\n",
    "    df = dataframe column containing scenario to cluster\n",
    "    max_cluster = number of maximum cluster we want to have (default=100)\n",
    "    \n",
    "    Output:\n",
    "    cluster_centers_df = mapping between cluster labels and its centers\n",
    "    cluster_labels_df = mapping between df and its cluster labels   \n",
    "    '''\n",
    "    km = KMeans(n_clusters=min(len(df.unique()),max_cluster))\n",
    "    km.fit(df.values.reshape(-1,1)) \n",
    "    \n",
    "    # get information about center\n",
    "    centers = np.array(km.cluster_centers_.reshape(1,-1)[0].tolist())\n",
    "    cluster_centers_df = pd.DataFrame({'cluster_centers':centers,'labels':range(len(centers))})\n",
    "#     cluster_centers_df.columns = ['cluster_centers']\n",
    "#     cluster_centers_df['labels'] = range(cluster_centers_df.count())\n",
    "    \n",
    "    # get information about labels and add information about center\n",
    "    cluster_labels_df = pd.DataFrame(np.array(km.labels_))\n",
    "    cluster_labels_df.columns = ['labels']\n",
    "    cluster_labels_df = pd.concat([df.reset_index(drop=True), cluster_labels_df], axis=1)\n",
    "    cluster_labels_df = pd.merge(cluster_labels_df, cluster_centers_df, on='labels', how='left')\n",
    "    \n",
    "    return cluster_centers_df, cluster_labels_df"
   ]
  },
  {
   "cell_type": "code",
   "execution_count": 81,
   "metadata": {},
   "outputs": [],
   "source": [
    "def cluster_summ(df):\n",
    "    '''Summarize probability for each scenario by referring to result from cluster_1d.\n",
    "    Input:\n",
    "    df = dataframe column containing scenario to cluster\n",
    "    \n",
    "    Output:\n",
    "    cluster_proportion_df = dataframe containing complete information about probability for each scenario\n",
    "    demand = possible scenario to happen\n",
    "    weight = probability of the possible scenario to happen\n",
    "    scenarios = indexing for demand\n",
    "    '''\n",
    "    cluster_centers_df, cluster_labels_df = cluster_1d(df)\n",
    "    print(cluster_centers_df.head())\n",
    "    print(cluster_labels_df.head())\n",
    "\n",
    "    count_label = cluster_labels_df[['labels']].count().values[0]\n",
    "    cluster_proportion_df = cluster_labels_df[['cluster_centers', 'labels']].groupby('cluster_centers').count().reset_index(drop=False)\n",
    "    cluster_proportion_df['count_labels'] = count_label\n",
    "    cluster_proportion_df['proportion_labels'] = cluster_proportion_df['labels'] / cluster_proportion_df['count_labels']\n",
    "    cluster_proportion_df['index'] = range(1,cluster_proportion_df.shape[0] + 1)\n",
    "    cluster_proportion_df['cluster_centers'] = np.round(cluster_proportion_df['cluster_centers'], decimals=(3))\n",
    "    \n",
    "    demand = pd.Series(cluster_proportion_df['cluster_centers'].values, index=cluster_proportion_df['index'].values).to_dict()\n",
    "    weight = pd.Series(cluster_proportion_df['proportion_labels'].values, index=cluster_proportion_df['index'].values).to_dict()\n",
    "    scenarios = range(1,len(cluster_proportion_df.cluster_centers.values)+1)\n",
    "    \n",
    "    return cluster_proportion_df, demand, weight, scenarios"
   ]
  },
  {
   "cell_type": "code",
   "execution_count": 90,
   "metadata": {},
   "outputs": [
    {
     "name": "stdout",
     "output_type": "stream",
     "text": [
      "   cluster_centers  labels\n",
      "0             27.0       0\n",
      "1             24.0       1\n",
      "2             29.0       2\n",
      "3             30.0       3\n",
      "4             26.0       4\n",
      "   train_y  labels  cluster_centers\n",
      "0       27       0             27.0\n",
      "1       26       4             26.0\n",
      "2       24       1             24.0\n",
      "3       31       9             31.0\n",
      "4       30       3             30.0\n",
      "\n",
      "Values wee need to see      :  {1: 19.0, 2: 20.0, 3: 21.0, 4: 22.0, 5: 23.0, 6: 24.0, 7: 25.0, 8: 26.0, 9: 27.0, 10: 28.0, 11: 29.0, 12: 30.0, 13: 31.0, 14: 32.0, 15: 33.0, 16: 34.0}\n",
      "\n",
      "Occurences of values        :  {1: 0.00125, 2: 0.00625, 3: 0.0125, 4: 0.04, 5: 0.065, 6: 0.09375, 7: 0.1175, 8: 0.17125, 9: 0.13875, 10: 0.1275, 11: 0.09, 12: 0.0825, 13: 0.0325, 14: 0.01, 15: 0.00875, 16: 0.0025}\n",
      "\n",
      "Number osf scenarios(Values):  range(1, 17)\n"
     ]
    }
   ],
   "source": [
    "cluster_proportion_df, demand, weight, scenarios = cluster_summ(df=df_train['train_y'])\n",
    "\n",
    "print('\\nValues wee need to see      : ',demand)\n",
    "print('\\nOccurences of values        : ',weight)\n",
    "print('\\nNumber osf scenarios(Values): ',scenarios)"
   ]
  },
  {
   "cell_type": "code",
   "execution_count": 80,
   "metadata": {},
   "outputs": [
    {
     "data": {
      "text/html": [
       "<div>\n",
       "<style scoped>\n",
       "    .dataframe tbody tr th:only-of-type {\n",
       "        vertical-align: middle;\n",
       "    }\n",
       "\n",
       "    .dataframe tbody tr th {\n",
       "        vertical-align: top;\n",
       "    }\n",
       "\n",
       "    .dataframe thead th {\n",
       "        text-align: right;\n",
       "    }\n",
       "</style>\n",
       "<table border=\"1\" class=\"dataframe\">\n",
       "  <thead>\n",
       "    <tr style=\"text-align: right;\">\n",
       "      <th></th>\n",
       "      <th>cluster_centers</th>\n",
       "      <th>labels</th>\n",
       "      <th>count_labels</th>\n",
       "      <th>proportion_labels</th>\n",
       "      <th>index</th>\n",
       "    </tr>\n",
       "  </thead>\n",
       "  <tbody>\n",
       "    <tr>\n",
       "      <th>0</th>\n",
       "      <td>19.0</td>\n",
       "      <td>1</td>\n",
       "      <td>800</td>\n",
       "      <td>0.00125</td>\n",
       "      <td>1</td>\n",
       "    </tr>\n",
       "    <tr>\n",
       "      <th>1</th>\n",
       "      <td>20.0</td>\n",
       "      <td>5</td>\n",
       "      <td>800</td>\n",
       "      <td>0.00625</td>\n",
       "      <td>2</td>\n",
       "    </tr>\n",
       "    <tr>\n",
       "      <th>2</th>\n",
       "      <td>21.0</td>\n",
       "      <td>10</td>\n",
       "      <td>800</td>\n",
       "      <td>0.01250</td>\n",
       "      <td>3</td>\n",
       "    </tr>\n",
       "    <tr>\n",
       "      <th>3</th>\n",
       "      <td>22.0</td>\n",
       "      <td>32</td>\n",
       "      <td>800</td>\n",
       "      <td>0.04000</td>\n",
       "      <td>4</td>\n",
       "    </tr>\n",
       "    <tr>\n",
       "      <th>4</th>\n",
       "      <td>23.0</td>\n",
       "      <td>52</td>\n",
       "      <td>800</td>\n",
       "      <td>0.06500</td>\n",
       "      <td>5</td>\n",
       "    </tr>\n",
       "  </tbody>\n",
       "</table>\n",
       "</div>"
      ],
      "text/plain": [
       "   cluster_centers  labels  count_labels  proportion_labels  index\n",
       "0             19.0       1           800            0.00125      1\n",
       "1             20.0       5           800            0.00625      2\n",
       "2             21.0      10           800            0.01250      3\n",
       "3             22.0      32           800            0.04000      4\n",
       "4             23.0      52           800            0.06500      5"
      ]
     },
     "execution_count": 80,
     "metadata": {},
     "output_type": "execute_result"
    }
   ],
   "source": [
    "cluster_proportion_df.head()"
   ]
  },
  {
   "cell_type": "code",
   "execution_count": 87,
   "metadata": {},
   "outputs": [
    {
     "data": {
      "text/html": [
       "<div>\n",
       "<style scoped>\n",
       "    .dataframe tbody tr th:only-of-type {\n",
       "        vertical-align: middle;\n",
       "    }\n",
       "\n",
       "    .dataframe tbody tr th {\n",
       "        vertical-align: top;\n",
       "    }\n",
       "\n",
       "    .dataframe thead th {\n",
       "        text-align: right;\n",
       "    }\n",
       "</style>\n",
       "<table border=\"1\" class=\"dataframe\">\n",
       "  <thead>\n",
       "    <tr style=\"text-align: right;\">\n",
       "      <th></th>\n",
       "      <th>cluster_centers</th>\n",
       "      <th>labels</th>\n",
       "      <th>count_labels</th>\n",
       "      <th>proportion_labels</th>\n",
       "      <th>index</th>\n",
       "    </tr>\n",
       "  </thead>\n",
       "  <tbody>\n",
       "    <tr>\n",
       "      <th>0</th>\n",
       "      <td>19.0</td>\n",
       "      <td>1</td>\n",
       "      <td>800</td>\n",
       "      <td>0.00125</td>\n",
       "      <td>1</td>\n",
       "    </tr>\n",
       "    <tr>\n",
       "      <th>1</th>\n",
       "      <td>20.0</td>\n",
       "      <td>5</td>\n",
       "      <td>800</td>\n",
       "      <td>0.00625</td>\n",
       "      <td>2</td>\n",
       "    </tr>\n",
       "    <tr>\n",
       "      <th>2</th>\n",
       "      <td>21.0</td>\n",
       "      <td>10</td>\n",
       "      <td>800</td>\n",
       "      <td>0.01250</td>\n",
       "      <td>3</td>\n",
       "    </tr>\n",
       "    <tr>\n",
       "      <th>3</th>\n",
       "      <td>22.0</td>\n",
       "      <td>32</td>\n",
       "      <td>800</td>\n",
       "      <td>0.04000</td>\n",
       "      <td>4</td>\n",
       "    </tr>\n",
       "    <tr>\n",
       "      <th>4</th>\n",
       "      <td>23.0</td>\n",
       "      <td>52</td>\n",
       "      <td>800</td>\n",
       "      <td>0.06500</td>\n",
       "      <td>5</td>\n",
       "    </tr>\n",
       "    <tr>\n",
       "      <th>5</th>\n",
       "      <td>24.0</td>\n",
       "      <td>75</td>\n",
       "      <td>800</td>\n",
       "      <td>0.09375</td>\n",
       "      <td>6</td>\n",
       "    </tr>\n",
       "    <tr>\n",
       "      <th>6</th>\n",
       "      <td>25.0</td>\n",
       "      <td>94</td>\n",
       "      <td>800</td>\n",
       "      <td>0.11750</td>\n",
       "      <td>7</td>\n",
       "    </tr>\n",
       "    <tr>\n",
       "      <th>7</th>\n",
       "      <td>26.0</td>\n",
       "      <td>137</td>\n",
       "      <td>800</td>\n",
       "      <td>0.17125</td>\n",
       "      <td>8</td>\n",
       "    </tr>\n",
       "    <tr>\n",
       "      <th>8</th>\n",
       "      <td>27.0</td>\n",
       "      <td>111</td>\n",
       "      <td>800</td>\n",
       "      <td>0.13875</td>\n",
       "      <td>9</td>\n",
       "    </tr>\n",
       "    <tr>\n",
       "      <th>9</th>\n",
       "      <td>28.0</td>\n",
       "      <td>102</td>\n",
       "      <td>800</td>\n",
       "      <td>0.12750</td>\n",
       "      <td>10</td>\n",
       "    </tr>\n",
       "    <tr>\n",
       "      <th>10</th>\n",
       "      <td>29.0</td>\n",
       "      <td>72</td>\n",
       "      <td>800</td>\n",
       "      <td>0.09000</td>\n",
       "      <td>11</td>\n",
       "    </tr>\n",
       "    <tr>\n",
       "      <th>11</th>\n",
       "      <td>30.0</td>\n",
       "      <td>66</td>\n",
       "      <td>800</td>\n",
       "      <td>0.08250</td>\n",
       "      <td>12</td>\n",
       "    </tr>\n",
       "    <tr>\n",
       "      <th>12</th>\n",
       "      <td>31.0</td>\n",
       "      <td>26</td>\n",
       "      <td>800</td>\n",
       "      <td>0.03250</td>\n",
       "      <td>13</td>\n",
       "    </tr>\n",
       "    <tr>\n",
       "      <th>13</th>\n",
       "      <td>32.0</td>\n",
       "      <td>8</td>\n",
       "      <td>800</td>\n",
       "      <td>0.01000</td>\n",
       "      <td>14</td>\n",
       "    </tr>\n",
       "    <tr>\n",
       "      <th>14</th>\n",
       "      <td>33.0</td>\n",
       "      <td>7</td>\n",
       "      <td>800</td>\n",
       "      <td>0.00875</td>\n",
       "      <td>15</td>\n",
       "    </tr>\n",
       "    <tr>\n",
       "      <th>15</th>\n",
       "      <td>34.0</td>\n",
       "      <td>2</td>\n",
       "      <td>800</td>\n",
       "      <td>0.00250</td>\n",
       "      <td>16</td>\n",
       "    </tr>\n",
       "  </tbody>\n",
       "</table>\n",
       "</div>"
      ],
      "text/plain": [
       "    cluster_centers  labels  count_labels  proportion_labels  index\n",
       "0              19.0       1           800            0.00125      1\n",
       "1              20.0       5           800            0.00625      2\n",
       "2              21.0      10           800            0.01250      3\n",
       "3              22.0      32           800            0.04000      4\n",
       "4              23.0      52           800            0.06500      5\n",
       "5              24.0      75           800            0.09375      6\n",
       "6              25.0      94           800            0.11750      7\n",
       "7              26.0     137           800            0.17125      8\n",
       "8              27.0     111           800            0.13875      9\n",
       "9              28.0     102           800            0.12750     10\n",
       "10             29.0      72           800            0.09000     11\n",
       "11             30.0      66           800            0.08250     12\n",
       "12             31.0      26           800            0.03250     13\n",
       "13             32.0       8           800            0.01000     14\n",
       "14             33.0       7           800            0.00875     15\n",
       "15             34.0       2           800            0.00250     16"
      ]
     },
     "execution_count": 87,
     "metadata": {},
     "output_type": "execute_result"
    }
   ],
   "source": [
    "cluster_proportion_df"
   ]
  },
  {
   "cell_type": "code",
   "execution_count": 83,
   "metadata": {},
   "outputs": [
    {
     "data": {
      "text/plain": [
       "0.02375"
      ]
     },
     "execution_count": 83,
     "metadata": {},
     "output_type": "execute_result"
    }
   ],
   "source": [
    "19.0/800"
   ]
  },
  {
   "cell_type": "code",
   "execution_count": 86,
   "metadata": {},
   "outputs": [
    {
     "data": {
      "text/plain": [
       "1.0000000000000002"
      ]
     },
     "execution_count": 86,
     "metadata": {},
     "output_type": "execute_result"
    }
   ],
   "source": [
    "sum([i[1] for i in weight.items()])"
   ]
  },
  {
   "cell_type": "markdown",
   "metadata": {},
   "source": [
    "#### b) USING PULP TO SOLVE STOCHASTIC PROGRAMMING"
   ]
  },
  {
   "cell_type": "code",
   "execution_count": 58,
   "metadata": {},
   "outputs": [
    {
     "name": "stdout",
     "output_type": "stream",
     "text": [
      "Requirement already satisfied: pulp in c:\\users\\jkapila\\appdata\\local\\continuum\\anaconda3\\lib\\site-packages (2.1)\n",
      "Requirement already satisfied: pygmo in c:\\users\\jkapila\\appdata\\local\\continuum\\anaconda3\\lib\\site-packages (2.13.0)\n",
      "Requirement already satisfied: deap in c:\\users\\jkapila\\appdata\\local\\continuum\\anaconda3\\lib\\site-packages (1.3.1)\n",
      "Requirement already satisfied: pyparsing>=2.0.1 in c:\\users\\jkapila\\appdata\\local\\continuum\\anaconda3\\lib\\site-packages (from pulp) (2.4.0)\n",
      "Requirement already satisfied: numpy in c:\\users\\jkapila\\appdata\\local\\continuum\\anaconda3\\lib\\site-packages (from pygmo) (1.16.4)\n",
      "Requirement already satisfied: cloudpickle in c:\\users\\jkapila\\appdata\\local\\continuum\\anaconda3\\lib\\site-packages (from pygmo) (1.2.1)\n"
     ]
    }
   ],
   "source": [
    "# !pip install pulp pygmo deap"
   ]
  },
  {
   "cell_type": "code",
   "execution_count": 59,
   "metadata": {},
   "outputs": [],
   "source": [
    "from pulp import *\n",
    "\n",
    "N = 100         # maximum item to purchase\n",
    "cost_price = 20 # amount paid to the supplier\n",
    "sell_price = 21 # amount paid by the customer\n",
    "waste_price = 0 # amount paid if we sell the remaining goods (ie. when we have more stock as prediction > demand)"
   ]
  },
  {
   "cell_type": "code",
   "execution_count": 60,
   "metadata": {},
   "outputs": [
    {
     "name": "stdout",
     "output_type": "stream",
     "text": [
      "Problem Statement:  Newsvendor1:\n",
      "MAXIMIZE\n",
      "None\n",
      "VARIABLES\n",
      "\n",
      "X variable:  x\n",
      "Z variable:  {1: z_1, 2: z_2, 3: z_3, 4: z_4, 5: z_5, 6: z_6, 7: z_7, 8: z_8, 9: z_9, 10: z_10, 11: z_11, 12: z_12, 13: z_13, 14: z_14, 15: z_15, 16: z_16}\n",
      "19.0\n",
      "0.00125\n",
      "20.0\n",
      "0.00625\n",
      "21.0\n",
      "0.0125\n",
      "22.0\n",
      "0.04\n",
      "23.0\n",
      "0.065\n",
      "24.0\n",
      "0.09375\n",
      "25.0\n",
      "0.1175\n",
      "26.0\n",
      "0.17125\n",
      "27.0\n",
      "0.13875\n",
      "28.0\n",
      "0.1275\n",
      "29.0\n",
      "0.09\n",
      "30.0\n",
      "0.0825\n",
      "31.0\n",
      "0.0325\n",
      "32.0\n",
      "0.01\n",
      "33.0\n",
      "0.00875\n",
      "34.0\n",
      "0.0025\n",
      "Problem Statement with constraints:  Newsvendor1:\n",
      "MAXIMIZE\n",
      "None\n",
      "SUBJECT TO\n",
      "_C1: x <= 100\n",
      "\n",
      "_C2: - x + z_1 <= 0\n",
      "\n",
      "_C3: z_1 <= 19\n",
      "\n",
      "_C4: x <= 100\n",
      "\n",
      "_C5: - x + z_2 <= 0\n",
      "\n",
      "_C6: z_2 <= 20\n",
      "\n",
      "_C7: x <= 100\n",
      "\n",
      "_C8: - x + z_3 <= 0\n",
      "\n",
      "_C9: z_3 <= 21\n",
      "\n",
      "_C10: x <= 100\n",
      "\n",
      "_C11: - x + z_4 <= 0\n",
      "\n",
      "_C12: z_4 <= 22\n",
      "\n",
      "_C13: x <= 100\n",
      "\n",
      "_C14: - x + z_5 <= 0\n",
      "\n",
      "_C15: z_5 <= 23\n",
      "\n",
      "_C16: x <= 100\n",
      "\n",
      "_C17: - x + z_6 <= 0\n",
      "\n",
      "_C18: z_6 <= 24\n",
      "\n",
      "_C19: x <= 100\n",
      "\n",
      "_C20: - x + z_7 <= 0\n",
      "\n",
      "_C21: z_7 <= 25\n",
      "\n",
      "_C22: x <= 100\n",
      "\n",
      "_C23: - x + z_8 <= 0\n",
      "\n",
      "_C24: z_8 <= 26\n",
      "\n",
      "_C25: x <= 100\n",
      "\n",
      "_C26: - x + z_9 <= 0\n",
      "\n",
      "_C27: z_9 <= 27\n",
      "\n",
      "_C28: x <= 100\n",
      "\n",
      "_C29: - x + z_10 <= 0\n",
      "\n",
      "_C30: z_10 <= 28\n",
      "\n",
      "_C31: x <= 100\n",
      "\n",
      "_C32: - x + z_11 <= 0\n",
      "\n",
      "_C33: z_11 <= 29\n",
      "\n",
      "_C34: x <= 100\n",
      "\n",
      "_C35: - x + z_12 <= 0\n",
      "\n",
      "_C36: z_12 <= 30\n",
      "\n",
      "_C37: x <= 100\n",
      "\n",
      "_C38: - x + z_13 <= 0\n",
      "\n",
      "_C39: z_13 <= 31\n",
      "\n",
      "_C40: x <= 100\n",
      "\n",
      "_C41: - x + z_14 <= 0\n",
      "\n",
      "_C42: z_14 <= 32\n",
      "\n",
      "_C43: x <= 100\n",
      "\n",
      "_C44: - x + z_15 <= 0\n",
      "\n",
      "_C45: z_15 <= 33\n",
      "\n",
      "_C46: x <= 100\n",
      "\n",
      "_C47: - x + z_16 <= 0\n",
      "\n",
      "_C48: z_16 <= 34\n",
      "\n",
      "VARIABLES\n",
      "x Continuous\n",
      "z_1 Continuous\n",
      "z_10 Continuous\n",
      "z_11 Continuous\n",
      "z_12 Continuous\n",
      "z_13 Continuous\n",
      "z_14 Continuous\n",
      "z_15 Continuous\n",
      "z_16 Continuous\n",
      "z_2 Continuous\n",
      "z_3 Continuous\n",
      "z_4 Continuous\n",
      "z_5 Continuous\n",
      "z_6 Continuous\n",
      "z_7 Continuous\n",
      "z_8 Continuous\n",
      "z_9 Continuous\n",
      "\n",
      "X variable:  x\n",
      "Z variable:  {1: z_1, 2: z_2, 3: z_3, 4: z_4, 5: z_5, 6: z_6, 7: z_7, 8: z_8, 9: z_9, 10: z_10, 11: z_11, 12: z_12, 13: z_13, 14: z_14, 15: z_15, 16: z_16}\n",
      "Problem Statement with constraints and solution points:  Newsvendor1:\n",
      "MAXIMIZE\n",
      "-20*x + 0.02625*z_1 + 2.6775*z_10 + 1.89*z_11 + 1.7325000000000002*z_12 + 0.6825*z_13 + 0.21*z_14 + 0.18375000000000002*z_15 + 0.0525*z_16 + 0.13125*z_2 + 0.2625*z_3 + 0.84*z_4 + 1.365*z_5 + 1.96875*z_6 + 2.4675*z_7 + 3.5962500000000004*z_8 + 2.9137500000000003*z_9 + 0.0\n",
      "SUBJECT TO\n",
      "_C1: x <= 100\n",
      "\n",
      "_C2: - x + z_1 <= 0\n",
      "\n",
      "_C3: z_1 <= 19\n",
      "\n",
      "_C4: x <= 100\n",
      "\n",
      "_C5: - x + z_2 <= 0\n",
      "\n",
      "_C6: z_2 <= 20\n",
      "\n",
      "_C7: x <= 100\n",
      "\n",
      "_C8: - x + z_3 <= 0\n",
      "\n",
      "_C9: z_3 <= 21\n",
      "\n",
      "_C10: x <= 100\n",
      "\n",
      "_C11: - x + z_4 <= 0\n",
      "\n",
      "_C12: z_4 <= 22\n",
      "\n",
      "_C13: x <= 100\n",
      "\n",
      "_C14: - x + z_5 <= 0\n",
      "\n",
      "_C15: z_5 <= 23\n",
      "\n",
      "_C16: x <= 100\n",
      "\n",
      "_C17: - x + z_6 <= 0\n",
      "\n",
      "_C18: z_6 <= 24\n",
      "\n",
      "_C19: x <= 100\n",
      "\n",
      "_C20: - x + z_7 <= 0\n",
      "\n",
      "_C21: z_7 <= 25\n",
      "\n",
      "_C22: x <= 100\n",
      "\n",
      "_C23: - x + z_8 <= 0\n",
      "\n",
      "_C24: z_8 <= 26\n",
      "\n",
      "_C25: x <= 100\n",
      "\n",
      "_C26: - x + z_9 <= 0\n",
      "\n",
      "_C27: z_9 <= 27\n",
      "\n",
      "_C28: x <= 100\n",
      "\n",
      "_C29: - x + z_10 <= 0\n",
      "\n",
      "_C30: z_10 <= 28\n",
      "\n",
      "_C31: x <= 100\n",
      "\n",
      "_C32: - x + z_11 <= 0\n",
      "\n",
      "_C33: z_11 <= 29\n",
      "\n",
      "_C34: x <= 100\n",
      "\n",
      "_C35: - x + z_12 <= 0\n",
      "\n",
      "_C36: z_12 <= 30\n",
      "\n",
      "_C37: x <= 100\n",
      "\n",
      "_C38: - x + z_13 <= 0\n",
      "\n",
      "_C39: z_13 <= 31\n",
      "\n",
      "_C40: x <= 100\n",
      "\n",
      "_C41: - x + z_14 <= 0\n",
      "\n",
      "_C42: z_14 <= 32\n",
      "\n",
      "_C43: x <= 100\n",
      "\n",
      "_C44: - x + z_15 <= 0\n",
      "\n",
      "_C45: z_15 <= 33\n",
      "\n",
      "_C46: x <= 100\n",
      "\n",
      "_C47: - x + z_16 <= 0\n",
      "\n",
      "_C48: z_16 <= 34\n",
      "\n",
      "VARIABLES\n",
      "x Continuous\n",
      "z_1 Continuous\n",
      "z_10 Continuous\n",
      "z_11 Continuous\n",
      "z_12 Continuous\n",
      "z_13 Continuous\n",
      "z_14 Continuous\n",
      "z_15 Continuous\n",
      "z_16 Continuous\n",
      "z_2 Continuous\n",
      "z_3 Continuous\n",
      "z_4 Continuous\n",
      "z_5 Continuous\n",
      "z_6 Continuous\n",
      "z_7 Continuous\n",
      "z_8 Continuous\n",
      "z_9 Continuous\n",
      "\n"
     ]
    },
    {
     "data": {
      "text/plain": [
       "1"
      ]
     },
     "execution_count": 60,
     "metadata": {},
     "output_type": "execute_result"
    }
   ],
   "source": [
    "##########################################\n",
    "# DEFINE VARIABLES\n",
    "##########################################\n",
    "\n",
    "# Defining our problem statement \n",
    "M = LpProblem(\"Newsvendor1\", LpMaximize)\n",
    "\n",
    "# Defining the variable which needs to be optimized\n",
    "x = LpVariable('x', lowBound=0)\n",
    "\n",
    "# Defining the scenarios / value demamds / clusterd y values\n",
    "z = LpVariable.dicts('z', scenarios, 0)\n",
    "\n",
    "print('Problem Statement: ',M)\n",
    "print('X variable: ',x)\n",
    "print('Z variable: ',z)\n",
    "\n",
    "##########################################\n",
    "# DEFINE MODELS: CONSTRAINTS\n",
    "##########################################\n",
    "\n",
    "for i in scenarios:\n",
    "    print(demand[i])\n",
    "    print(weight[i])\n",
    "    M += x <= N # the maximum value our independent varaible can have for a scenario\n",
    "    M += z[i] <= x # telling the scenario cannot have more casses than its occurence\n",
    "    M += z[i] <= demand[i] # defining the upper limit of values a scenario can attain\n",
    "\n",
    "print('Problem Statement with constraints: ', M)\n",
    "print('X variable: ', x)\n",
    "print('Z variable: ', z)\n",
    "    \n",
    "##########################################\n",
    "# DEFINE MODELS: OBJECTIVE\n",
    "##########################################\n",
    "\n",
    "M += sum(weight[i] * (sell_price * z[i] + waste_price * (x - z[i])) for i in scenarios) - (cost_price * x) \n",
    "\n",
    "print('Problem Statement with constraints and solution points: ',M)\n",
    "M.solve()\n"
   ]
  },
  {
   "cell_type": "code",
   "execution_count": 61,
   "metadata": {},
   "outputs": [
    {
     "name": "stdout",
     "output_type": "stream",
     "text": [
      "Status = Optimal\n",
      "x = 22.000000\n",
      "z_1 = 19.000000\n",
      "z_2 = 20.000000\n",
      "z_3 = 21.000000\n",
      "z_4 = 22.000000\n",
      "z_5 = 22.000000\n",
      "z_6 = 22.000000\n",
      "z_7 = 22.000000\n",
      "z_8 = 22.000000\n",
      "z_9 = 22.000000\n",
      "z_10 = 22.000000\n",
      "z_11 = 22.000000\n",
      "z_12 = 22.000000\n",
      "z_13 = 22.000000\n",
      "z_14 = 22.000000\n",
      "z_15 = 22.000000\n",
      "z_16 = 22.000000\n",
      "Objective = 21.396250\n"
     ]
    }
   ],
   "source": [
    "##########################################\n",
    "# PRINT RESULTS\n",
    "##########################################\n",
    "\n",
    "print(\"Status = %s\" % LpStatus[M.status])\n",
    "\n",
    "print(\"%s = %f\" % (x.name, x.varValue))\n",
    "for i in scenarios:\n",
    "    print(\"%s = %f\" % (z[i].name, z[i].varValue))\n",
    "print(\"Objective = %f\" % (M.objective.value()))"
   ]
  },
  {
   "cell_type": "markdown",
   "metadata": {},
   "source": [
    "#### c) CHECK AS TABLE (MANUAL CALCULATION): TO SEE CLEARLY WHAT HAPPENS"
   ]
  },
  {
   "cell_type": "code",
   "execution_count": 62,
   "metadata": {},
   "outputs": [],
   "source": [
    "def result_summ(cluster_proportion_df, demand, weight, sell_price, cost_price, waste_price):\n",
    "    '''Summarize result by comparing possible scenario (example_df) with its possible execution (purchase_df).\n",
    "    We want to look how much profit we can get given a pair of scenario and its execution, \n",
    "    weighted with the probability of each scenario to happen.\n",
    "    Input:\n",
    "    cluster_proportion_df = dataframe containing complete information about probability for each scenario\n",
    "    demand = possible scenario to happen\n",
    "    weight = probability of the possible scenario to happen\n",
    "    cost_price = amount paid to the supplier\n",
    "    sell_price = amount paid by the customer\n",
    "    waste_price = amount paid if we sell the remaining goods\n",
    "\n",
    "    Output:\n",
    "    example_df = dataframe after cross join between possible scenario and possible execution\n",
    "    example_df_summ = summary of example_df to obtain total expected profit per possible execution\n",
    "    '''\n",
    "    \n",
    "    # get the basic df: purchase_df for the demand and example_df for the possible scenario execution\n",
    "    purchase_df = pd.DataFrame({'key': 0, 'item_to_purchase': demand})\n",
    "    example_df = pd.DataFrame({'key': 0, 'item_to_sell': cluster_proportion_df['cluster_centers'], \n",
    "                               'probability': cluster_proportion_df['proportion_labels']})\n",
    "    example_df = example_df.merge(purchase_df, on='key', how='outer')\n",
    "    example_df = example_df.drop('key', axis=1).sort_values(['item_to_purchase', 'item_to_sell'])\n",
    "    \n",
    "    example_df['total_revenue'] = example_df[['item_to_sell', 'item_to_purchase']].min(axis=1) * sell_price\n",
    "    example_df['total_cost'] = example_df['item_to_purchase'] * cost_price\n",
    "    example_df['total_profit'] = (example_df['total_revenue'] - example_df['total_cost'])\n",
    "    \n",
    "    example_df['total_weighted_profit'] = example_df['probability'] * example_df['total_profit']\n",
    "    example_df['total_cumsum_profit'] = example_df.groupby('item_to_purchase')['total_weighted_profit'].cumsum()\n",
    "\n",
    "    example_df_summ = example_df.groupby('item_to_purchase', as_index=False)['total_weighted_profit'].sum()\n",
    "    \n",
    "    return example_df, example_df_summ"
   ]
  },
  {
   "cell_type": "code",
   "execution_count": 63,
   "metadata": {},
   "outputs": [
    {
     "data": {
      "text/html": [
       "<div>\n",
       "<style scoped>\n",
       "    .dataframe tbody tr th:only-of-type {\n",
       "        vertical-align: middle;\n",
       "    }\n",
       "\n",
       "    .dataframe tbody tr th {\n",
       "        vertical-align: top;\n",
       "    }\n",
       "\n",
       "    .dataframe thead th {\n",
       "        text-align: right;\n",
       "    }\n",
       "</style>\n",
       "<table border=\"1\" class=\"dataframe\">\n",
       "  <thead>\n",
       "    <tr style=\"text-align: right;\">\n",
       "      <th></th>\n",
       "      <th>item_to_sell</th>\n",
       "      <th>probability</th>\n",
       "      <th>item_to_purchase</th>\n",
       "      <th>total_revenue</th>\n",
       "      <th>total_cost</th>\n",
       "      <th>total_profit</th>\n",
       "      <th>total_weighted_profit</th>\n",
       "      <th>total_cumsum_profit</th>\n",
       "    </tr>\n",
       "  </thead>\n",
       "  <tbody>\n",
       "    <tr>\n",
       "      <th>0</th>\n",
       "      <td>19.0</td>\n",
       "      <td>0.00125</td>\n",
       "      <td>19.0</td>\n",
       "      <td>399.0</td>\n",
       "      <td>380.0</td>\n",
       "      <td>19.0</td>\n",
       "      <td>0.02375</td>\n",
       "      <td>0.02375</td>\n",
       "    </tr>\n",
       "    <tr>\n",
       "      <th>16</th>\n",
       "      <td>20.0</td>\n",
       "      <td>0.00625</td>\n",
       "      <td>19.0</td>\n",
       "      <td>399.0</td>\n",
       "      <td>380.0</td>\n",
       "      <td>19.0</td>\n",
       "      <td>0.11875</td>\n",
       "      <td>0.14250</td>\n",
       "    </tr>\n",
       "    <tr>\n",
       "      <th>32</th>\n",
       "      <td>21.0</td>\n",
       "      <td>0.01250</td>\n",
       "      <td>19.0</td>\n",
       "      <td>399.0</td>\n",
       "      <td>380.0</td>\n",
       "      <td>19.0</td>\n",
       "      <td>0.23750</td>\n",
       "      <td>0.38000</td>\n",
       "    </tr>\n",
       "    <tr>\n",
       "      <th>48</th>\n",
       "      <td>22.0</td>\n",
       "      <td>0.04000</td>\n",
       "      <td>19.0</td>\n",
       "      <td>399.0</td>\n",
       "      <td>380.0</td>\n",
       "      <td>19.0</td>\n",
       "      <td>0.76000</td>\n",
       "      <td>1.14000</td>\n",
       "    </tr>\n",
       "    <tr>\n",
       "      <th>64</th>\n",
       "      <td>23.0</td>\n",
       "      <td>0.06500</td>\n",
       "      <td>19.0</td>\n",
       "      <td>399.0</td>\n",
       "      <td>380.0</td>\n",
       "      <td>19.0</td>\n",
       "      <td>1.23500</td>\n",
       "      <td>2.37500</td>\n",
       "    </tr>\n",
       "    <tr>\n",
       "      <th>...</th>\n",
       "      <td>...</td>\n",
       "      <td>...</td>\n",
       "      <td>...</td>\n",
       "      <td>...</td>\n",
       "      <td>...</td>\n",
       "      <td>...</td>\n",
       "      <td>...</td>\n",
       "      <td>...</td>\n",
       "    </tr>\n",
       "    <tr>\n",
       "      <th>191</th>\n",
       "      <td>30.0</td>\n",
       "      <td>0.08250</td>\n",
       "      <td>34.0</td>\n",
       "      <td>630.0</td>\n",
       "      <td>680.0</td>\n",
       "      <td>-50.0</td>\n",
       "      <td>-4.12500</td>\n",
       "      <td>-122.07250</td>\n",
       "    </tr>\n",
       "    <tr>\n",
       "      <th>207</th>\n",
       "      <td>31.0</td>\n",
       "      <td>0.03250</td>\n",
       "      <td>34.0</td>\n",
       "      <td>651.0</td>\n",
       "      <td>680.0</td>\n",
       "      <td>-29.0</td>\n",
       "      <td>-0.94250</td>\n",
       "      <td>-123.01500</td>\n",
       "    </tr>\n",
       "    <tr>\n",
       "      <th>223</th>\n",
       "      <td>32.0</td>\n",
       "      <td>0.01000</td>\n",
       "      <td>34.0</td>\n",
       "      <td>672.0</td>\n",
       "      <td>680.0</td>\n",
       "      <td>-8.0</td>\n",
       "      <td>-0.08000</td>\n",
       "      <td>-123.09500</td>\n",
       "    </tr>\n",
       "    <tr>\n",
       "      <th>239</th>\n",
       "      <td>33.0</td>\n",
       "      <td>0.00875</td>\n",
       "      <td>34.0</td>\n",
       "      <td>693.0</td>\n",
       "      <td>680.0</td>\n",
       "      <td>13.0</td>\n",
       "      <td>0.11375</td>\n",
       "      <td>-122.98125</td>\n",
       "    </tr>\n",
       "    <tr>\n",
       "      <th>255</th>\n",
       "      <td>34.0</td>\n",
       "      <td>0.00250</td>\n",
       "      <td>34.0</td>\n",
       "      <td>714.0</td>\n",
       "      <td>680.0</td>\n",
       "      <td>34.0</td>\n",
       "      <td>0.08500</td>\n",
       "      <td>-122.89625</td>\n",
       "    </tr>\n",
       "  </tbody>\n",
       "</table>\n",
       "<p>256 rows × 8 columns</p>\n",
       "</div>"
      ],
      "text/plain": [
       "     item_to_sell  probability  item_to_purchase  total_revenue  total_cost  \\\n",
       "0            19.0      0.00125              19.0          399.0       380.0   \n",
       "16           20.0      0.00625              19.0          399.0       380.0   \n",
       "32           21.0      0.01250              19.0          399.0       380.0   \n",
       "48           22.0      0.04000              19.0          399.0       380.0   \n",
       "64           23.0      0.06500              19.0          399.0       380.0   \n",
       "..            ...          ...               ...            ...         ...   \n",
       "191          30.0      0.08250              34.0          630.0       680.0   \n",
       "207          31.0      0.03250              34.0          651.0       680.0   \n",
       "223          32.0      0.01000              34.0          672.0       680.0   \n",
       "239          33.0      0.00875              34.0          693.0       680.0   \n",
       "255          34.0      0.00250              34.0          714.0       680.0   \n",
       "\n",
       "     total_profit  total_weighted_profit  total_cumsum_profit  \n",
       "0            19.0                0.02375              0.02375  \n",
       "16           19.0                0.11875              0.14250  \n",
       "32           19.0                0.23750              0.38000  \n",
       "48           19.0                0.76000              1.14000  \n",
       "64           19.0                1.23500              2.37500  \n",
       "..            ...                    ...                  ...  \n",
       "191         -50.0               -4.12500           -122.07250  \n",
       "207         -29.0               -0.94250           -123.01500  \n",
       "223          -8.0               -0.08000           -123.09500  \n",
       "239          13.0                0.11375           -122.98125  \n",
       "255          34.0                0.08500           -122.89625  \n",
       "\n",
       "[256 rows x 8 columns]"
      ]
     },
     "execution_count": 63,
     "metadata": {},
     "output_type": "execute_result"
    }
   ],
   "source": [
    "example_df, example_df_summ = result_summ(cluster_proportion_df=cluster_proportion_df, demand=demand, weight=weight, \n",
    "                                          sell_price=sell_price, cost_price=cost_price, waste_price=waste_price)\n",
    "example_df"
   ]
  },
  {
   "cell_type": "markdown",
   "metadata": {},
   "source": [
    "#### d) VISUAL CHECK"
   ]
  },
  {
   "cell_type": "code",
   "execution_count": 64,
   "metadata": {},
   "outputs": [
    {
     "name": "stderr",
     "output_type": "stream",
     "text": [
      "C:\\Users\\jkapila\\AppData\\Local\\Continuum\\anaconda3\\lib\\site-packages\\pandas\\core\\indexing.py:494: SettingWithCopyWarning: \n",
      "A value is trying to be set on a copy of a slice from a DataFrame.\n",
      "Try using .loc[row_indexer,col_indexer] = value instead\n",
      "\n",
      "See the caveats in the documentation: http://pandas.pydata.org/pandas-docs/stable/user_guide/indexing.html#returning-a-view-versus-a-copy\n",
      "  self.obj[item] = s\n"
     ]
    }
   ],
   "source": [
    "# limit the table, we don't want to be overwhelmed\n",
    "temp = example_df[(example_df['item_to_purchase'] >= 20) & (example_df['item_to_purchase'] <= 25)]\n",
    "temp.loc[:,'item_to_purchase'] = temp['item_to_purchase'].astype('str')"
   ]
  },
  {
   "cell_type": "code",
   "execution_count": 65,
   "metadata": {},
   "outputs": [
    {
     "data": {
      "image/png": "[encoded data removed]",
      "text/plain": [
       "<Figure size 432x288 with 1 Axes>"
      ]
     },
     "metadata": {
      "needs_background": "light"
     },
     "output_type": "display_data"
    }
   ],
   "source": [
    "# check the weighted profit per possible scenario: \n",
    "# we can see how higher execution causes greater loss during weak demand and hence,\n",
    "# higher execution number has difficulty in bouncing the profit up \n",
    "\n",
    "fig, ax = plt.subplots()\n",
    "\n",
    "for i in temp['item_to_purchase'].unique():\n",
    "    temp[temp['item_to_purchase'] == i].plot.line(x='item_to_purchase', y='total_weighted_profit', ax=ax, label=str(i))\n",
    "plt.xticks(range(0,np.unique(temp['item_to_sell']).shape[0]),np.unique(temp['item_to_sell']),rotation=45)\n",
    "plt.show()"
   ]
  },
  {
   "cell_type": "code",
   "execution_count": 66,
   "metadata": {},
   "outputs": [
    {
     "data": {
      "image/png": "[encoded data removed]",
      "text/plain": [
       "<Figure size 432x288 with 1 Axes>"
      ]
     },
     "metadata": {
      "needs_background": "light"
     },
     "output_type": "display_data"
    }
   ],
   "source": [
    "# check the total expected profit, which comes from all possible profit \n",
    "# and weighted by the probability of the scenario to happen\n",
    "plt.figure()\n",
    "sns.scatterplot(x='item_to_purchase', y='total_weighted_profit', data=example_df_summ)\n",
    "plt.show()"
   ]
  },
  {
   "cell_type": "markdown",
   "metadata": {},
   "source": [
    "### 5) PREDICTION + STOCHASTIC PROGRAMMING\n",
    "#### a) BOOTSTRAPPING"
   ]
  },
  {
   "cell_type": "code",
   "execution_count": 67,
   "metadata": {},
   "outputs": [],
   "source": [
    "size_bstrap = 50\n",
    "iter = 100\n",
    "idx_check = 172\n",
    "test_y_bstrap = []\n",
    "coef_bstrap = []\n",
    "intercept_bstrap = []\n",
    "\n",
    "for i in range(iter):\n",
    "    \n",
    "    # sampling with replacement\n",
    "    idx = np.random.choice(np.arange(0,train_x.shape[0]), size_bstrap, replace=True)\n",
    "    train_x_temp = train_x[idx]\n",
    "    train_y_temp = train_y[idx]\n",
    "    \n",
    "    # do linear regression\n",
    "    lr_bstrap = LinearRegression()\n",
    "    lr_bstrap.fit(train_x_temp, train_y_temp)\n",
    "    \n",
    "    # get coefficient and intercept\n",
    "    coef_bstrap.append(lr_bstrap.coef_)\n",
    "    intercept_bstrap.append(lr_bstrap.intercept_)\n",
    "    \n",
    "    # get result, only for intended index idx_check\n",
    "    # test_y_bstrap.append((lr_bstrap.predict(test_x)[idx_check][0]).astype(int))\n",
    "    result_temp = np.rint(lr_bstrap.intercept_ + lr_bstrap.coef_ * test_x[idx_check])[0,0]\n",
    "    test_y_bstrap.append(result_temp)\n",
    "    "
   ]
  },
  {
   "cell_type": "code",
   "execution_count": 68,
   "metadata": {},
   "outputs": [
    {
     "data": {
      "text/html": [
       "<div>\n",
       "<style scoped>\n",
       "    .dataframe tbody tr th:only-of-type {\n",
       "        vertical-align: middle;\n",
       "    }\n",
       "\n",
       "    .dataframe tbody tr th {\n",
       "        vertical-align: top;\n",
       "    }\n",
       "\n",
       "    .dataframe thead th {\n",
       "        text-align: right;\n",
       "    }\n",
       "</style>\n",
       "<table border=\"1\" class=\"dataframe\">\n",
       "  <thead>\n",
       "    <tr style=\"text-align: right;\">\n",
       "      <th></th>\n",
       "      <th>test_y_bstrap</th>\n",
       "      <th>test_x_bstrap</th>\n",
       "    </tr>\n",
       "  </thead>\n",
       "  <tbody>\n",
       "    <tr>\n",
       "      <th>0</th>\n",
       "      <td>29.0</td>\n",
       "      <td>110</td>\n",
       "    </tr>\n",
       "    <tr>\n",
       "      <th>1</th>\n",
       "      <td>29.0</td>\n",
       "      <td>110</td>\n",
       "    </tr>\n",
       "    <tr>\n",
       "      <th>2</th>\n",
       "      <td>29.0</td>\n",
       "      <td>110</td>\n",
       "    </tr>\n",
       "    <tr>\n",
       "      <th>3</th>\n",
       "      <td>29.0</td>\n",
       "      <td>110</td>\n",
       "    </tr>\n",
       "    <tr>\n",
       "      <th>4</th>\n",
       "      <td>29.0</td>\n",
       "      <td>110</td>\n",
       "    </tr>\n",
       "    <tr>\n",
       "      <th>...</th>\n",
       "      <td>...</td>\n",
       "      <td>...</td>\n",
       "    </tr>\n",
       "    <tr>\n",
       "      <th>95</th>\n",
       "      <td>29.0</td>\n",
       "      <td>110</td>\n",
       "    </tr>\n",
       "    <tr>\n",
       "      <th>96</th>\n",
       "      <td>29.0</td>\n",
       "      <td>110</td>\n",
       "    </tr>\n",
       "    <tr>\n",
       "      <th>97</th>\n",
       "      <td>29.0</td>\n",
       "      <td>110</td>\n",
       "    </tr>\n",
       "    <tr>\n",
       "      <th>98</th>\n",
       "      <td>29.0</td>\n",
       "      <td>110</td>\n",
       "    </tr>\n",
       "    <tr>\n",
       "      <th>99</th>\n",
       "      <td>29.0</td>\n",
       "      <td>110</td>\n",
       "    </tr>\n",
       "  </tbody>\n",
       "</table>\n",
       "<p>100 rows × 2 columns</p>\n",
       "</div>"
      ],
      "text/plain": [
       "    test_y_bstrap  test_x_bstrap\n",
       "0            29.0            110\n",
       "1            29.0            110\n",
       "2            29.0            110\n",
       "3            29.0            110\n",
       "4            29.0            110\n",
       "..            ...            ...\n",
       "95           29.0            110\n",
       "96           29.0            110\n",
       "97           29.0            110\n",
       "98           29.0            110\n",
       "99           29.0            110\n",
       "\n",
       "[100 rows x 2 columns]"
      ]
     },
     "execution_count": 68,
     "metadata": {},
     "output_type": "execute_result"
    }
   ],
   "source": [
    "result_bstrap = pd.DataFrame({'test_y_bstrap': test_y_bstrap})\n",
    "result_bstrap['test_x_bstrap'] = test_x[idx_check][0]\n",
    "result_bstrap"
   ]
  },
  {
   "cell_type": "code",
   "execution_count": 69,
   "metadata": {},
   "outputs": [
    {
     "data": {
      "text/html": [
       "<div>\n",
       "<style scoped>\n",
       "    .dataframe tbody tr th:only-of-type {\n",
       "        vertical-align: middle;\n",
       "    }\n",
       "\n",
       "    .dataframe tbody tr th {\n",
       "        vertical-align: top;\n",
       "    }\n",
       "\n",
       "    .dataframe thead th {\n",
       "        text-align: right;\n",
       "    }\n",
       "</style>\n",
       "<table border=\"1\" class=\"dataframe\">\n",
       "  <thead>\n",
       "    <tr style=\"text-align: right;\">\n",
       "      <th></th>\n",
       "      <th>test_y_bstrap</th>\n",
       "      <th>test_x_bstrap</th>\n",
       "    </tr>\n",
       "  </thead>\n",
       "  <tbody>\n",
       "    <tr>\n",
       "      <th>0</th>\n",
       "      <td>29.0</td>\n",
       "      <td>100</td>\n",
       "    </tr>\n",
       "  </tbody>\n",
       "</table>\n",
       "</div>"
      ],
      "text/plain": [
       "   test_y_bstrap  test_x_bstrap\n",
       "0           29.0            100"
      ]
     },
     "execution_count": 69,
     "metadata": {},
     "output_type": "execute_result"
    }
   ],
   "source": [
    "result_bstrap_summ = result_bstrap.groupby('test_y_bstrap').count().reset_index(drop=False)\n",
    "result_bstrap_summ"
   ]
  },
  {
   "cell_type": "markdown",
   "metadata": {},
   "source": [
    "#### b) DISCRETIZING DEMAND"
   ]
  },
  {
   "cell_type": "code",
   "execution_count": 37,
   "metadata": {},
   "outputs": [
    {
     "name": "stdout",
     "output_type": "stream",
     "text": [
      "{1: 26.0}\n",
      "{1: 1.0}\n",
      "range(1, 2)\n"
     ]
    }
   ],
   "source": [
    "cluster_proportion_df_bstrap, demand_bstrap, weight_bstrap, scenarios_bstrap = cluster_summ(df=result_bstrap['test_y_bstrap'])\n",
    "\n",
    "print(demand_bstrap)\n",
    "print(weight_bstrap)\n",
    "print(scenarios_bstrap)"
   ]
  },
  {
   "cell_type": "markdown",
   "metadata": {},
   "source": [
    "#### c) USING PULP TO SOLVE STOCHASTIC PROGRAMMING"
   ]
  },
  {
   "cell_type": "code",
   "execution_count": 91,
   "metadata": {},
   "outputs": [
    {
     "name": "stdout",
     "output_type": "stream",
     "text": [
      "33.0\n",
      "0.13\n",
      "34.0\n",
      "0.87\n",
      "Status = Optimal\n",
      "x_bstrap = 33.000000\n",
      "z_bstrap_1 = 33.000000\n",
      "z_bstrap_2 = 33.000000\n",
      "Objective = 33.000000\n"
     ]
    }
   ],
   "source": [
    "##########################################\n",
    "# DEFINE VARIABLES\n",
    "##########################################\n",
    "\n",
    "M_bstrap = LpProblem(\"Newsvendor2\", LpMaximize)\n",
    "\n",
    "x_bstrap = LpVariable('x_bstrap', lowBound=0)\n",
    "z_bstrap = LpVariable.dicts('z_bstrap', scenarios_bstrap, 0)\n",
    "\n",
    "\n",
    "##########################################\n",
    "# DEFINE MODELS: CONSTRAINTS\n",
    "##########################################\n",
    "\n",
    "for i in scenarios_bstrap:\n",
    "    print(demand_bstrap[i])\n",
    "    print(weight_bstrap[i])\n",
    "    M_bstrap += x_bstrap <= N\n",
    "    M_bstrap += z_bstrap[i] <= x_bstrap\n",
    "    M_bstrap += z_bstrap[i] <= demand_bstrap[i]\n",
    "\n",
    "    \n",
    "##########################################\n",
    "# DEFINE MODELS: OBJECTIVE\n",
    "##########################################\n",
    "\n",
    "M_bstrap += sum(weight_bstrap[i] * (sell_price * z_bstrap[i] + waste_price * (x_bstrap - z_bstrap[i])) for i in scenarios_bstrap) - (cost_price * x_bstrap) \n",
    "M_bstrap.solve()\n",
    "\n",
    "\n",
    "##########################################\n",
    "# PRINT RESULTS\n",
    "##########################################\n",
    "\n",
    "print(\"Status = %s\" % LpStatus[M_bstrap.status])\n",
    "\n",
    "print(\"%s = %f\" % (x_bstrap.name, x_bstrap.varValue))\n",
    "for i in scenarios_bstrap:\n",
    "    print(\"%s = %f\" % (z_bstrap[i].name, z_bstrap[i].varValue))\n",
    "print(\"Objective = %f\" % (M_bstrap.objective.value()))\n",
    "\n"
   ]
  },
  {
   "cell_type": "markdown",
   "metadata": {},
   "source": [
    "#### d) CHECK AS TABLE (MANUAL CALCULATION): TO SEE CLEARLY WHAT HAPPENS"
   ]
  },
  {
   "cell_type": "code",
   "execution_count": 93,
   "metadata": {},
   "outputs": [
    {
     "data": {
      "text/html": [
       "<div>\n",
       "<style scoped>\n",
       "    .dataframe tbody tr th:only-of-type {\n",
       "        vertical-align: middle;\n",
       "    }\n",
       "\n",
       "    .dataframe tbody tr th {\n",
       "        vertical-align: top;\n",
       "    }\n",
       "\n",
       "    .dataframe thead th {\n",
       "        text-align: right;\n",
       "    }\n",
       "</style>\n",
       "<table border=\"1\" class=\"dataframe\">\n",
       "  <thead>\n",
       "    <tr style=\"text-align: right;\">\n",
       "      <th></th>\n",
       "      <th>item_to_sell</th>\n",
       "      <th>probability</th>\n",
       "      <th>item_to_purchase</th>\n",
       "      <th>total_revenue</th>\n",
       "      <th>total_cost</th>\n",
       "      <th>total_profit</th>\n",
       "      <th>total_weighted_profit</th>\n",
       "      <th>total_cumsum_profit</th>\n",
       "    </tr>\n",
       "  </thead>\n",
       "  <tbody>\n",
       "    <tr>\n",
       "      <th>0</th>\n",
       "      <td>33.0</td>\n",
       "      <td>0.13</td>\n",
       "      <td>33.0</td>\n",
       "      <td>693.0</td>\n",
       "      <td>660.0</td>\n",
       "      <td>33.0</td>\n",
       "      <td>4.29</td>\n",
       "      <td>4.29</td>\n",
       "    </tr>\n",
       "    <tr>\n",
       "      <th>2</th>\n",
       "      <td>34.0</td>\n",
       "      <td>0.87</td>\n",
       "      <td>33.0</td>\n",
       "      <td>693.0</td>\n",
       "      <td>660.0</td>\n",
       "      <td>33.0</td>\n",
       "      <td>28.71</td>\n",
       "      <td>33.00</td>\n",
       "    </tr>\n",
       "    <tr>\n",
       "      <th>1</th>\n",
       "      <td>33.0</td>\n",
       "      <td>0.13</td>\n",
       "      <td>34.0</td>\n",
       "      <td>693.0</td>\n",
       "      <td>680.0</td>\n",
       "      <td>13.0</td>\n",
       "      <td>1.69</td>\n",
       "      <td>1.69</td>\n",
       "    </tr>\n",
       "    <tr>\n",
       "      <th>3</th>\n",
       "      <td>34.0</td>\n",
       "      <td>0.87</td>\n",
       "      <td>34.0</td>\n",
       "      <td>714.0</td>\n",
       "      <td>680.0</td>\n",
       "      <td>34.0</td>\n",
       "      <td>29.58</td>\n",
       "      <td>31.27</td>\n",
       "    </tr>\n",
       "  </tbody>\n",
       "</table>\n",
       "</div>"
      ],
      "text/plain": [
       "   item_to_sell  probability  item_to_purchase  total_revenue  total_cost  \\\n",
       "0          33.0         0.13              33.0          693.0       660.0   \n",
       "2          34.0         0.87              33.0          693.0       660.0   \n",
       "1          33.0         0.13              34.0          693.0       680.0   \n",
       "3          34.0         0.87              34.0          714.0       680.0   \n",
       "\n",
       "   total_profit  total_weighted_profit  total_cumsum_profit  \n",
       "0          33.0                   4.29                 4.29  \n",
       "2          33.0                  28.71                33.00  \n",
       "1          13.0                   1.69                 1.69  \n",
       "3          34.0                  29.58                31.27  "
      ]
     },
     "execution_count": 93,
     "metadata": {},
     "output_type": "execute_result"
    }
   ],
   "source": [
    "example_df_bstrap, example_df_summ_bstrap = result_summ(cluster_proportion_df=cluster_proportion_df_bstrap, \n",
    "                                                        demand=demand_bstrap, weight=weight_bstrap, \n",
    "                                                        sell_price=sell_price, cost_price=cost_price, \n",
    "                                                        waste_price=waste_price)\n",
    "example_df_bstrap.head(n=5)"
   ]
  },
  {
   "cell_type": "code",
   "execution_count": 92,
   "metadata": {},
   "outputs": [
    {
     "data": {
      "text/html": [
       "<div>\n",
       "<style scoped>\n",
       "    .dataframe tbody tr th:only-of-type {\n",
       "        vertical-align: middle;\n",
       "    }\n",
       "\n",
       "    .dataframe tbody tr th {\n",
       "        vertical-align: top;\n",
       "    }\n",
       "\n",
       "    .dataframe thead th {\n",
       "        text-align: right;\n",
       "    }\n",
       "</style>\n",
       "<table border=\"1\" class=\"dataframe\">\n",
       "  <thead>\n",
       "    <tr style=\"text-align: right;\">\n",
       "      <th></th>\n",
       "      <th>item_to_sell</th>\n",
       "      <th>probability</th>\n",
       "      <th>item_to_purchase</th>\n",
       "      <th>total_revenue</th>\n",
       "      <th>total_cost</th>\n",
       "      <th>total_profit</th>\n",
       "      <th>total_weighted_profit</th>\n",
       "      <th>total_cumsum_profit</th>\n",
       "    </tr>\n",
       "  </thead>\n",
       "  <tbody>\n",
       "    <tr>\n",
       "      <th>0</th>\n",
       "      <td>33.0</td>\n",
       "      <td>0.13</td>\n",
       "      <td>33.0</td>\n",
       "      <td>759.0</td>\n",
       "      <td>660.0</td>\n",
       "      <td>99.0</td>\n",
       "      <td>12.87</td>\n",
       "      <td>12.87</td>\n",
       "    </tr>\n",
       "    <tr>\n",
       "      <th>2</th>\n",
       "      <td>34.0</td>\n",
       "      <td>0.87</td>\n",
       "      <td>33.0</td>\n",
       "      <td>759.0</td>\n",
       "      <td>660.0</td>\n",
       "      <td>99.0</td>\n",
       "      <td>86.13</td>\n",
       "      <td>99.00</td>\n",
       "    </tr>\n",
       "    <tr>\n",
       "      <th>1</th>\n",
       "      <td>33.0</td>\n",
       "      <td>0.13</td>\n",
       "      <td>34.0</td>\n",
       "      <td>759.0</td>\n",
       "      <td>680.0</td>\n",
       "      <td>79.0</td>\n",
       "      <td>10.27</td>\n",
       "      <td>10.27</td>\n",
       "    </tr>\n",
       "    <tr>\n",
       "      <th>3</th>\n",
       "      <td>34.0</td>\n",
       "      <td>0.87</td>\n",
       "      <td>34.0</td>\n",
       "      <td>782.0</td>\n",
       "      <td>680.0</td>\n",
       "      <td>102.0</td>\n",
       "      <td>88.74</td>\n",
       "      <td>99.01</td>\n",
       "    </tr>\n",
       "  </tbody>\n",
       "</table>\n",
       "</div>"
      ],
      "text/plain": [
       "   item_to_sell  probability  item_to_purchase  total_revenue  total_cost  \\\n",
       "0          33.0         0.13              33.0          759.0       660.0   \n",
       "2          34.0         0.87              33.0          759.0       660.0   \n",
       "1          33.0         0.13              34.0          759.0       680.0   \n",
       "3          34.0         0.87              34.0          782.0       680.0   \n",
       "\n",
       "   total_profit  total_weighted_profit  total_cumsum_profit  \n",
       "0          99.0                  12.87                12.87  \n",
       "2          99.0                  86.13                99.00  \n",
       "1          79.0                  10.27                10.27  \n",
       "3         102.0                  88.74                99.01  "
      ]
     },
     "execution_count": 92,
     "metadata": {},
     "output_type": "execute_result"
    }
   ],
   "source": [
    "# optimal decision will only change if we increase sales_price (eg. sales_price = 23)\n",
    "example_df_bstrap, example_df_summ_bstrap = result_summ(cluster_proportion_df=cluster_proportion_df_bstrap, \n",
    "                                                        demand=demand_bstrap, weight=weight_bstrap, \n",
    "                                                        sell_price=23, cost_price=cost_price, \n",
    "                                                        waste_price=waste_price)\n",
    "example_df_bstrap.head(n=5)"
   ]
  },
  {
   "cell_type": "markdown",
   "metadata": {},
   "source": [
    "#### d) VISUAL CHECK"
   ]
  },
  {
   "cell_type": "code",
   "execution_count": 83,
   "metadata": {},
   "outputs": [],
   "source": [
    "example_df_bstrap.loc[:,'item_to_purchase'] = example_df_bstrap['item_to_purchase'].astype('str')"
   ]
  },
  {
   "cell_type": "code",
   "execution_count": 84,
   "metadata": {},
   "outputs": [
    {
     "data": {
      "image/png": "[encoded data removed]",
      "text/plain": [
       "<Figure size 432x288 with 1 Axes>"
      ]
     },
     "metadata": {
      "needs_background": "light"
     },
     "output_type": "display_data"
    }
   ],
   "source": [
    "# check the weighted profit per possible scenario: \n",
    "# we can see how higher execution causes greater loss during weak demand and hence,\n",
    "# higher execution number has difficulty in bouncing the profit up \n",
    "\n",
    "fig, ax = plt.subplots()\n",
    "\n",
    "for i in example_df_bstrap['item_to_purchase'].unique():\n",
    "    example_df_bstrap[example_df_bstrap['item_to_purchase'] == i].plot.line(x='item_to_purchase', y='total_weighted_profit', ax=ax, label=str(i))\n",
    "plt.xticks(range(0,np.unique(example_df_bstrap['item_to_sell']).shape[0]),np.unique(example_df_bstrap['item_to_sell']),rotation=45)\n",
    "plt.show()"
   ]
  },
  {
   "cell_type": "code",
   "execution_count": 85,
   "metadata": {},
   "outputs": [
    {
     "data": {
      "image/png": "[encoded data removed]",
      "text/plain": [
       "<Figure size 432x288 with 1 Axes>"
      ]
     },
     "metadata": {
      "needs_background": "light"
     },
     "output_type": "display_data"
    }
   ],
   "source": [
    "# check the total expected profit, which comes from all possible profit \n",
    "# and weighted by the probability of the scenario to happen\n",
    "plt.figure()\n",
    "sns.scatterplot(x='item_to_purchase', y='total_weighted_profit', data=example_df_summ_bstrap)\n",
    "plt.show()"
   ]
  },
  {
   "cell_type": "code",
   "execution_count": 1,
   "metadata": {},
   "outputs": [],
   "source": [
    "import numpy as np"
   ]
  },
  {
   "cell_type": "code",
   "execution_count": 2,
   "metadata": {},
   "outputs": [],
   "source": [
    "import matplotlib.pyplot as plt\n",
    "from scipy import special"
   ]
  },
  {
   "cell_type": "code",
   "execution_count": 4,
   "metadata": {},
   "outputs": [
    {
     "data": {
      "text/plain": [
       "array([2036344376, 2018858423, 1989193191, 1980725011, 1915776695,\n",
       "       1866020327, 1858990867, 1813113271, 1808199443, 1751151179])"
      ]
     },
     "execution_count": 4,
     "metadata": {},
     "output_type": "execute_result"
    }
   ],
   "source": [
    "a = 1.00001\n",
    "b = 4\n",
    "s = np.random.zipf(a, 1000)\n",
    "# s = np.random.beta(a,b, 100000)\n",
    "s[::-1].sort()\n",
    "s[:10]"
   ]
  },
  {
   "cell_type": "code",
   "execution_count": 5,
   "metadata": {},
   "outputs": [],
   "source": [
    "s = s/np.max(s)"
   ]
  },
  {
   "cell_type": "code",
   "execution_count": 6,
   "metadata": {},
   "outputs": [
    {
     "data": {
      "image/png": "[encoded data removed]",
      "text/plain": [
       "<Figure size 432x288 with 1 Axes>"
      ]
     },
     "metadata": {
      "needs_background": "light"
     },
     "output_type": "display_data"
    }
   ],
   "source": [
    "\n",
    "plt.plot(s, linewidth=2, color='r',label='zipf')\n",
    "# plt.plot(np.log(s1+1), linewidth=2, color='b')\n",
    "# s1_e = np.exp(-s1) + 1\n",
    "# s1_e[::-1].sort()\n",
    "# plt.plot(s1_e, linewidth=2, color='b')\n",
    "plt.legend()\n",
    "plt.show()"
   ]
  },
  {
   "cell_type": "code",
   "execution_count": 7,
   "metadata": {},
   "outputs": [
    {
     "data": {
      "text/plain": [
       "array([1.08061217, 0.9473233 , 0.79803126, 0.78638794, 0.72408266,\n",
       "       0.65907706, 0.61720633, 0.61227416, 0.52836966, 0.51918828])"
      ]
     },
     "execution_count": 7,
     "metadata": {},
     "output_type": "execute_result"
    }
   ],
   "source": [
    "a, m = 3.,0.1\n",
    "s2 = (np.random.pareto(a, 1000) + 1) * m\n",
    "s2[::-1].sort()\n",
    "s2[:10]"
   ]
  },
  {
   "cell_type": "code",
   "execution_count": 8,
   "metadata": {},
   "outputs": [
    {
     "data": {
      "text/plain": [
       "(154,)"
      ]
     },
     "execution_count": 8,
     "metadata": {},
     "output_type": "execute_result"
    }
   ],
   "source": [
    "s2[s2>.18].shape"
   ]
  },
  {
   "cell_type": "code",
   "execution_count": 9,
   "metadata": {},
   "outputs": [
    {
     "data": {
      "image/png": "[encoded data removed]",
      "text/plain": [
       "<Figure size 432x288 with 1 Axes>"
      ]
     },
     "metadata": {
      "needs_background": "light"
     },
     "output_type": "display_data"
    }
   ],
   "source": [
    "plt.plot(s2, linewidth=2, color='r')\n",
    "plt.show()"
   ]
  },
  {
   "cell_type": "code",
   "execution_count": 10,
   "metadata": {},
   "outputs": [
    {
     "data": {
      "text/plain": [
       "array([1.44269504, 0.91023923, 0.72134752, 0.62133493, 0.55811063,\n",
       "       0.51389834, 0.48089835, 0.45511961, 0.43429448, 0.41703239,\n",
       "       0.4024296 , 0.38987125, 0.37892318, 0.36926937, 0.36067376,\n",
       "       0.35295612, 0.34597626, 0.33962327, 0.3338082 , 0.32845874,\n",
       "       0.32351545, 0.31892899, 0.31465798, 0.31066747, 0.30692768,\n",
       "       0.30341308, 0.30010163, 0.2969742 , 0.2940141 , 0.29120668])"
      ]
     },
     "execution_count": 10,
     "metadata": {},
     "output_type": "execute_result"
    }
   ],
   "source": [
    "n = 30\n",
    "1 / np.log(np.arange(2,n+2))"
   ]
  },
  {
   "cell_type": "code",
   "execution_count": 11,
   "metadata": {},
   "outputs": [],
   "source": [
    "def log_dist(n_dist, olog=False):\n",
    "    n = np.arange(2,n_dist+2)\n",
    "    if olog:\n",
    "        return 1/np.log(n)\n",
    "    return np.exp(np.log(n)/n)"
   ]
  },
  {
   "cell_type": "code",
   "execution_count": 12,
   "metadata": {},
   "outputs": [],
   "source": [
    "s1 = log_dist(1000)\n",
    "s1_l = log_dist(1000,True)"
   ]
  },
  {
   "cell_type": "code",
   "execution_count": 27,
   "metadata": {},
   "outputs": [],
   "source": [
    "n = np.arange(2,1000+2)\n",
    "n[::-1].sort()\n",
    "s_lin =  n/1000"
   ]
  },
  {
   "cell_type": "code",
   "execution_count": 37,
   "metadata": {},
   "outputs": [],
   "source": [
    "def get_weights(n_dist,scheme=\"zipf\"):\n",
    "    \n",
    "    # defining the linear values for the distirbution\n",
    "    n = np.arange(2,n_dist+2)\n",
    "    \n",
    "    if scheme == \"zipf\":\n",
    "        # Value 1.00001 location and is scaled between 0 and 1. These parameters and defined by iteratively finding best options.\n",
    "        w = np.random.zipf(1.00001, n_dist)\n",
    "        w = w/np.max(w)\n",
    "        \n",
    "    elif scheme == \"pareto\":\n",
    "        # Value 3 and 0.1 are location and sclae parameters and defined by iteratively finding best options.\n",
    "        w = (np.random.pareto(3, n_dist) + 1) * 0.1 \n",
    "        \n",
    "    elif scheme == \"log_dist\":\n",
    "        w = 1/np.log(n)\n",
    "        \n",
    "    elif scheme == \"exp_dist\":\n",
    "        w = np.exp(np.log(n)/n)\n",
    "    \n",
    "    elif scheme == \"linear\":\n",
    "        w =  n/n_dist\n",
    "    \n",
    "    else:\n",
    "        w = np.ones((n_dist,)) # constant value if no proper weighing scheme is defined\n",
    "        \n",
    "    w[::-1].sort()\n",
    "    return w"
   ]
  },
  {
   "cell_type": "code",
   "execution_count": 38,
   "metadata": {},
   "outputs": [],
   "source": [
    "# np.ones((10,))\n",
    "# s"
   ]
  },
  {
   "cell_type": "code",
   "execution_count": 48,
   "metadata": {},
   "outputs": [
    {
     "data": {
      "image/png": "[encoded data removed]",
      "text/plain": [
       "<Figure size 720x504 with 1 Axes>"
      ]
     },
     "metadata": {
      "needs_background": "light"
     },
     "output_type": "display_data"
    }
   ],
   "source": [
    "n_dist=500\n",
    "plt.figure(figsize=(10,7))\n",
    "plt.plot(, linewidth=3, color='orange',label='zipf')\n",
    "plt.plot(get_weights(n_dist,scheme=\"log_dist\"), linewidth=2, color='r',label='log_dist')\n",
    "plt.plot(get_weights(n_dist,scheme=\"exp_dist\"), linewidth=2, color='g',label='exp_dist')\n",
    "plt.plot(get_weights(n_dist,scheme=\"pareto\"), linewidth=2, color='b',label='pareto')\n",
    "plt.plot(get_weights(n_dist,scheme=\"linear\"), linewidth=2, color='y',label='linear')\n",
    "plt.plot(get_weights(n_dist,scheme=\"const\"), linewidth=2, color='cyan',label='const')\n",
    "plt.legend()\n",
    "plt.show()"
   ]
  },
  {
   "cell_type": "code",
   "execution_count": 51,
   "metadata": {},
   "outputs": [
    {
     "name": "stdout",
     "output_type": "stream",
     "text": [
      "[26. 26. 26. 26. 26. 26. 26. 26. 26. 26.]\n",
      "[1.1 1.  0.9 0.8 0.7 0.6 0.5 0.4 0.3 0.2]\n"
     ]
    },
    {
     "data": {
      "text/plain": [
       "array([28.6, 26. , 23.4, 20.8, 18.2, 15.6, 13. , 10.4,  7.8,  5.2])"
      ]
     },
     "execution_count": 51,
     "metadata": {},
     "output_type": "execute_result"
    }
   ],
   "source": [
    "print(np.ones((10,))+25)\n",
    "print(get_weights(10,scheme=\"linear\"))\n",
    "(np.ones((10,))+25)*get_weights(10,scheme=\"linear\")"
   ]
  },
  {
   "cell_type": "code",
   "execution_count": 94,
   "metadata": {},
   "outputs": [
    {
     "name": "stderr",
     "output_type": "stream",
     "text": [
      "C:\\Users\\jkapila\\AppData\\Local\\Continuum\\anaconda3\\lib\\site-packages\\ipykernel_launcher.py:1: MatplotlibDeprecationWarning: \n",
      "The 'normed' kwarg was deprecated in Matplotlib 2.1 and will be removed in 3.1. Use 'density' instead.\n",
      "  \"\"\"Entry point for launching an IPython kernel.\n"
     ]
    },
    {
     "data": {
      "image/png": "[encoded data removed]",
      "text/plain": [
       "<Figure size 432x288 with 1 Axes>"
      ]
     },
     "metadata": {
      "needs_background": "light"
     },
     "output_type": "display_data"
    }
   ],
   "source": [
    "count, bins, ignored = plt.hist(s[s<50], 50, normed=True)\n",
    "x = np.arange(1., 50.)\n",
    "y = x**(-a) / special.zetac(a)\n",
    "plt.plot(x, y/max(y), linewidth=2, color='r')\n",
    "plt.show()"
   ]
  },
  {
   "cell_type": "code",
   "execution_count": 84,
   "metadata": {},
   "outputs": [
    {
     "name": "stderr",
     "output_type": "stream",
     "text": [
      "C:\\Users\\jkapila\\AppData\\Local\\Continuum\\anaconda3\\lib\\site-packages\\ipykernel_launcher.py:1: MatplotlibDeprecationWarning: \n",
      "The 'normed' kwarg was deprecated in Matplotlib 2.1 and will be removed in 3.1. Use 'density' instead.\n",
      "  \"\"\"Entry point for launching an IPython kernel.\n"
     ]
    },
    {
     "ename": "NameError",
     "evalue": "name 'a' is not defined",
     "output_type": "error",
     "traceback": [
      "\u001b[1;31m---------------------------------------------------------------------------\u001b[0m",
      "\u001b[1;31mNameError\u001b[0m                                 Traceback (most recent call last)",
      "\u001b[1;32m<ipython-input-84-06557eab7944>\u001b[0m in \u001b[0;36m<module>\u001b[1;34m\u001b[0m\n\u001b[0;32m      1\u001b[0m \u001b[0mcount\u001b[0m\u001b[1;33m,\u001b[0m \u001b[0mbins\u001b[0m\u001b[1;33m,\u001b[0m \u001b[0mignored\u001b[0m \u001b[1;33m=\u001b[0m \u001b[0mplt\u001b[0m\u001b[1;33m.\u001b[0m\u001b[0mhist\u001b[0m\u001b[1;33m(\u001b[0m\u001b[0ms\u001b[0m\u001b[1;33m[\u001b[0m\u001b[0ms\u001b[0m\u001b[1;33m<\u001b[0m\u001b[1;36m50\u001b[0m\u001b[1;33m]\u001b[0m\u001b[1;33m,\u001b[0m \u001b[1;36m50\u001b[0m\u001b[1;33m,\u001b[0m \u001b[0mnormed\u001b[0m\u001b[1;33m=\u001b[0m\u001b[1;32mTrue\u001b[0m\u001b[1;33m)\u001b[0m\u001b[1;33m\u001b[0m\u001b[1;33m\u001b[0m\u001b[0m\n\u001b[0;32m      2\u001b[0m \u001b[0mx\u001b[0m \u001b[1;33m=\u001b[0m \u001b[0mnp\u001b[0m\u001b[1;33m.\u001b[0m\u001b[0marange\u001b[0m\u001b[1;33m(\u001b[0m\u001b[1;36m1.\u001b[0m\u001b[1;33m,\u001b[0m \u001b[1;36m50.\u001b[0m\u001b[1;33m)\u001b[0m\u001b[1;33m\u001b[0m\u001b[1;33m\u001b[0m\u001b[0m\n\u001b[1;32m----> 3\u001b[1;33m \u001b[0my\u001b[0m \u001b[1;33m=\u001b[0m \u001b[0mx\u001b[0m\u001b[1;33m**\u001b[0m\u001b[1;33m(\u001b[0m\u001b[1;33m-\u001b[0m\u001b[0ma\u001b[0m\u001b[1;33m)\u001b[0m \u001b[1;33m/\u001b[0m \u001b[0mspecial\u001b[0m\u001b[1;33m.\u001b[0m\u001b[0mzetac\u001b[0m\u001b[1;33m(\u001b[0m\u001b[0ma\u001b[0m\u001b[1;33m)\u001b[0m\u001b[1;33m\u001b[0m\u001b[1;33m\u001b[0m\u001b[0m\n\u001b[0m\u001b[0;32m      4\u001b[0m \u001b[0mplt\u001b[0m\u001b[1;33m.\u001b[0m\u001b[0mplot\u001b[0m\u001b[1;33m(\u001b[0m\u001b[0mx\u001b[0m\u001b[1;33m,\u001b[0m \u001b[0my\u001b[0m\u001b[1;33m/\u001b[0m\u001b[0mmax\u001b[0m\u001b[1;33m(\u001b[0m\u001b[0my\u001b[0m\u001b[1;33m)\u001b[0m\u001b[1;33m,\u001b[0m \u001b[0mlinewidth\u001b[0m\u001b[1;33m=\u001b[0m\u001b[1;36m2\u001b[0m\u001b[1;33m,\u001b[0m \u001b[0mcolor\u001b[0m\u001b[1;33m=\u001b[0m\u001b[1;34m'r'\u001b[0m\u001b[1;33m)\u001b[0m\u001b[1;33m\u001b[0m\u001b[1;33m\u001b[0m\u001b[0m\n\u001b[0;32m      5\u001b[0m \u001b[0mplt\u001b[0m\u001b[1;33m.\u001b[0m\u001b[0mshow\u001b[0m\u001b[1;33m(\u001b[0m\u001b[1;33m)\u001b[0m\u001b[1;33m\u001b[0m\u001b[1;33m\u001b[0m\u001b[0m\n",
      "\u001b[1;31mNameError\u001b[0m: name 'a' is not defined"
     ]
    },
    {
     "data": {
      "image/png": "[encoded data removed]",
      "text/plain": [
       "<Figure size 432x288 with 1 Axes>"
      ]
     },
     "metadata": {
      "needs_background": "light"
     },
     "output_type": "display_data"
    }
   ],
   "source": [
    "count, bins, ignored = plt.hist(s[s<50], 50, normed=True)\n",
    "x = np.arange(1., 50.)\n",
    "y = x**(-a) / special.zetac(a)\n",
    "plt.plot(x, y/max(y), linewidth=2, color='r')\n",
    "plt.show()"
   ]
  },
  {
   "cell_type": "code",
   "execution_count": null,
   "metadata": {},
   "outputs": [],
   "source": []
  }
 ],
 "metadata": {
  "kernelspec": {
   "display_name": "Python 3",
   "language": "python",
   "name": "python3"
  },
  "language_info": {
   "codemirror_mode": {
    "name": "ipython",
    "version": 3
   },
   "file_extension": ".py",
   "mimetype": "text/x-python",
   "name": "python",
   "nbconvert_exporter": "python",
   "pygments_lexer": "ipython3",
   "version": "3.7.3"
  }
 },
 "nbformat": 4,
 "nbformat_minor": 4
}
