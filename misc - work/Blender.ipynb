{
 "cells": [
  {
   "cell_type": "code",
   "execution_count": 1,
   "metadata": {},
   "outputs": [],
   "source": [
    "import numpy as np\n",
    "import pandas as pd\n",
    "import os, time"
   ]
  },
  {
   "cell_type": "code",
   "execution_count": null,
   "metadata": {},
   "outputs": [],
   "source": [
    "from sklearn.externals import joblib"
   ]
  },
  {
   "cell_type": "code",
   "execution_count": null,
   "metadata": {},
   "outputs": [],
   "source": [
    "class ModelBlender:\n",
    "    \n",
    "    def __init__(self, problem = 'classification',training_ratio=0.7, hold_out=0.2, blended_samples=2, \n",
    "                 stack_levels=2, na_treatment='omit', sample_generation='random', n_cross=1, n_jobs = -1):\n",
    "        \n",
    "        self.problem = problem\n",
    "        self.training_ratio = training_ratio\n",
    "        self.hold_out = hold_out\n",
    "        self.blended_samples = blended_samples\n",
    "        self.stack_levels = stack_levels\n",
    "        self.na_treatment = na_treatment\n",
    "        self.sample_generation = sample_generation\n",
    "        self.n_cross = n_cross\n",
    "        self.n_jobs = n_jobs\n",
    "        \n",
    "        self.train = None\n",
    "        self.blend = None\n",
    "        self.hold_out = None\n",
    "        \n",
    "        self.modelstore = {'stack_{}'.format(i):{} for i in range(self.stack_levels)}\n",
    "        \n",
    "    \n",
    "    def fit_data(self,df,na_imputation,):\n",
    "        pass\n",
    "    \n",
    "    def fit_model(self):\n",
    "        pass\n",
    "    \n",
    "    def plot_model(self):\n",
    "        pass\n",
    "    \n",
    "    def plot_scores(self):\n",
    "        pass\n",
    "    \n",
    "    def generate_stack(self):\n",
    "        pass\n",
    "    \n",
    "    def save(self):\n",
    "        pass\n",
    "    \n",
    "    def load(self):\n",
    "        pass\n",
    "    \n",
    "    def predict(self):\n",
    "        pass\n",
    "    \n",
    "    def score_on_holdout(self):\n",
    "        pass\n",
    "    \n",
    "    \n",
    "    "
   ]
  },
  {
   "cell_type": "code",
   "execution_count": 2,
   "metadata": {},
   "outputs": [
    {
     "data": {
      "text/plain": [
       "array([[0.21294536, 0.41182332, 0.39782747, ..., 0.31471156, 0.1696514 ,\n",
       "        0.7207901 ],\n",
       "       [0.65660336, 0.79285022, 0.32073436, ..., 0.64704066, 0.7254941 ,\n",
       "        0.62738621],\n",
       "       [0.5558196 , 0.28007644, 0.19818936, ..., 0.87272067, 0.80676783,\n",
       "        0.35395373],\n",
       "       ...,\n",
       "       [0.55329798, 0.61338466, 0.19256121, ..., 0.80009936, 0.48878365,\n",
       "        0.74397793],\n",
       "       [0.02656547, 0.61814928, 0.05368385, ..., 0.54433606, 0.48568831,\n",
       "        0.88394576],\n",
       "       [0.56592401, 0.35515365, 0.76229319, ..., 0.80676522, 0.2719413 ,\n",
       "        0.06224593]])"
      ]
     },
     "execution_count": 2,
     "metadata": {},
     "output_type": "execute_result"
    }
   ],
   "source": [
    "np.random.random((1000,10))"
   ]
  },
  {
   "cell_type": "code",
   "execution_count": null,
   "metadata": {},
   "outputs": [],
   "source": []
  }
 ],
 "metadata": {
  "kernelspec": {
   "display_name": "Python [conda env:hyper]",
   "language": "python",
   "name": "conda-env-hyper-py"
  },
  "language_info": {
   "codemirror_mode": {
    "name": "ipython",
    "version": 3
   },
   "file_extension": ".py",
   "mimetype": "text/x-python",
   "name": "python",
   "nbconvert_exporter": "python",
   "pygments_lexer": "ipython3",
   "version": "3.6.4"
  }
 },
 "nbformat": 4,
 "nbformat_minor": 2
}
