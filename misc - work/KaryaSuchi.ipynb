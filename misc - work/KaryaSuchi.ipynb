{
 "cells": [
  {
   "cell_type": "markdown",
   "metadata": {},
   "source": [
    "# Karya Suchi\n",
    "\n",
    "Saturday(6/10):\n",
    "\n",
    "1. KP - RELM Paper Finalization\n",
    "2. JK - Autoencoder Implemetation for RELM\n",
    "3. JK - Multi Objective Hypothetical\n",
    "4. JK - *Reading New Paper*\n",
    "\n",
    "Sunday(7/10):\n",
    "\n",
    "1. KP - CrossTab Sparsity\n",
    "2. JK - python to KP sir - 1.5 hrs\n",
    "3  KP,JK - KNN work , Evidence Tree, KNN Tree\n",
    "4. JK - RLEM paper Copy\n",
    "\n",
    "\n",
    "Friday(19/10):\n",
    "\n",
    "1. \n",
    "\n",
    "\n"
   ]
  },
  {
   "cell_type": "markdown",
   "metadata": {},
   "source": [
    "\n",
    "### EVIdence TREE\n",
    "### KNN and KNN TREE\n",
    "\n",
    "\n",
    "### Unsupervised Augumented Supervised Learning\n",
    "### SHERLOCK Integration\n",
    "\n",
    "### VBC\n",
    "### IMAGE TREE\n",
    "### DOCUMENT CAPSULE"
   ]
  },
  {
   "cell_type": "markdown",
   "metadata": {},
   "source": [
    "### VBC (26/10)\n",
    "\n",
    "update architecture to bottlencek\n",
    "\n",
    "so ideally flow is \n",
    "data -> layer1 -> activation -> bottleneck -> inverse activation -> layer2 -> data_2\n",
    "\n",
    "train with GA on difference between data_2 - data\n",
    "layer1, bolettneck and layer2\n",
    "\n",
    "EXPERIMENTATION\n",
    "DATA:\n",
    "1. sparse data\n",
    "2. continuous data only\n",
    "3. mixed data\n",
    "\n",
    "Compare models on components from\n",
    "1) VAE with GA\n",
    "2) VBC with GA\n"
   ]
  },
  {
   "cell_type": "code",
   "execution_count": null,
   "metadata": {},
   "outputs": [],
   "source": [
    "# DOCUMENT CAPSULE\n",
    "# use hashing to score for each word..."
   ]
  },
  {
   "cell_type": "markdown",
   "metadata": {},
   "source": [
    "# Twins Dueling Learning ( Suprvisory Competetive Networks)\n",
    "towared hybridization of back propogation and genetic algorithm."
   ]
  },
  {
   "cell_type": "code",
   "execution_count": null,
   "metadata": {},
   "outputs": [],
   "source": []
  }
 ],
 "metadata": {
  "kernelspec": {
   "display_name": "Python [conda env:hyper]",
   "language": "python",
   "name": "conda-env-hyper-py"
  },
  "language_info": {
   "codemirror_mode": {
    "name": "ipython",
    "version": 3
   },
   "file_extension": ".py",
   "mimetype": "text/x-python",
   "name": "python",
   "nbconvert_exporter": "python",
   "pygments_lexer": "ipython3",
   "version": "3.6.4"
  }
 },
 "nbformat": 4,
 "nbformat_minor": 2
}
